{
 "cells": [
  {
   "cell_type": "markdown",
   "id": "e7316a32",
   "metadata": {},
   "source": [
    "<div style=\" background-color: RGB(0,114,200);\" >\n",
    "<h1 style=\"margin: auto; padding: 20px 0; color:#fff; text-align: center\">PROJET 4 DATA ANALYST</h1>\n",
    "<h2 style=\"margin: auto; padding: 20px 0; color:#fff; text-align: center\">Réalisez une étude de santé publique avec R ou Python\n",
    "</h2>\n",
    "</div>"
   ]
  },
  {
   "cell_type": "markdown",
   "id": "6e00fa8a",
   "metadata": {},
   "source": [
    "# OBJECTIF DE CE NOTEBOOK\n",
    "\n",
    "Cette étude vise à analyser la situation de la sous-nutrition dans le monde. Cela inclut l'identification des régions et des populations les plus touchées par la sous-nutrition, ainsi que la recherche de facteurs qui y contribuent.\n"
   ]
  },
  {
   "cell_type": "markdown",
   "id": "9dad8326",
   "metadata": {},
   "source": [
    "<div style=\"background-color: RGB(0,150,250);\" >\n",
    "<h2 style=\"margin: auto; padding: 20px; color:#fff; \">Etape 1 - Importation des librairies et chargement des fichiers</h2>\n",
    "</div>"
   ]
  },
  {
   "cell_type": "markdown",
   "id": "4ee69457",
   "metadata": {},
   "source": [
    "<div style=\"border: 1px solid RGB(0,150,250);\" >\n",
    "<h3 style=\"margin: auto; padding: 20px; color: RGB(0,150,250); \">1.1 - Importation des librairies</h3>\n",
    "</div>"
   ]
  },
  {
   "cell_type": "code",
   "execution_count": 1,
   "id": "ffe62b56",
   "metadata": {},
   "outputs": [],
   "source": [
    "#Importation de la librairie Pandas\n",
    "import pandas as pd"
   ]
  },
  {
   "cell_type": "markdown",
   "id": "8bd8e7ed",
   "metadata": {},
   "source": [
    "<div style=\"border: 1px solid RGB(0,150,250);\" >\n",
    "<h3 style=\"margin: auto; padding: 20px; color: RGB(0,150,250); \">1.2 - Chargement des fichiers Excel</h3>\n",
    "</div>"
   ]
  },
  {
   "cell_type": "code",
   "execution_count": 2,
   "id": "b304f108",
   "metadata": {},
   "outputs": [],
   "source": [
    "#Importation du fichier population.csv\n",
    "population = pd.read_csv('population.csv')\n",
    "\n",
    "#Importation du fichier dispo_alimentaire.csv\n",
    "aide_alimentaire = pd.read_csv('aide_alimentaire.csv')\n",
    "\n",
    "#Importation du fichier aide_alimentaire.csv\n",
    "sous_nutrition = pd.read_csv('sous_nutrition.csv')\n",
    "\n",
    "#Importation du fichier sous_nutrition.csv\n",
    "dispo_alimentaire = pd.read_csv('dispo_alimentaire.csv')\n"
   ]
  },
  {
   "cell_type": "markdown",
   "id": "1249847a",
   "metadata": {},
   "source": [
    "<div style=\"background-color: RGB(0,150,250);\" >\n",
    "<h2 style=\"margin: auto; padding: 20px; color:#fff; \">Etape 2 - Analyse exploratoire des fichiers</h2>\n",
    "</div>"
   ]
  },
  {
   "cell_type": "markdown",
   "id": "235e6e91",
   "metadata": {},
   "source": [
    "<div style=\"border: 1px solid RGB(0,150,250);\" >\n",
    "<h3 style=\"margin: auto; padding: 20px; color: RGB(0,150,250); \">2.1 - Analyse exploratoire du fichier population</h3>\n",
    "</div>"
   ]
  },
  {
   "cell_type": "code",
   "execution_count": 3,
   "id": "e6b639d2",
   "metadata": {},
   "outputs": [
    {
     "name": "stdout",
     "output_type": "stream",
     "text": [
      "Le tableau comporte 1416 observation(s) ou article(s)\n",
      "Le tableau comporte 3 colonne(s)\n"
     ]
    }
   ],
   "source": [
    "#Afficher les dimensions du dataset\n",
    "print(\"Le tableau comporte {} observation(s) ou article(s)\".format(population.shape[0]))\n",
    "print(\"Le tableau comporte {} colonne(s)\".format(population.shape[1]))"
   ]
  },
  {
   "cell_type": "code",
   "execution_count": 4,
   "id": "fbbdfd5c",
   "metadata": {},
   "outputs": [
    {
     "data": {
      "text/plain": [
       "Index(['Zone', 'Année', 'Valeur'], dtype='object')"
      ]
     },
     "execution_count": 4,
     "metadata": {},
     "output_type": "execute_result"
    }
   ],
   "source": [
    "#Consulter le nombre de colonnes\n",
    "population.columns"
   ]
  },
  {
   "cell_type": "code",
   "execution_count": 5,
   "id": "c4a2620f",
   "metadata": {},
   "outputs": [
    {
     "data": {
      "text/plain": [
       "Zone       object\n",
       "Année       int64\n",
       "Valeur    float64\n",
       "dtype: object"
      ]
     },
     "execution_count": 5,
     "metadata": {},
     "output_type": "execute_result"
    }
   ],
   "source": [
    "#La nature des données dans chacune des colonnes\n",
    "population.dtypes"
   ]
  },
  {
   "cell_type": "code",
   "execution_count": 6,
   "id": "cee69ebf",
   "metadata": {},
   "outputs": [
    {
     "data": {
      "text/plain": [
       "<bound method DataFrame.count of              Zone  Année     Valeur\n",
       "0     Afghanistan   2013  32269.589\n",
       "1     Afghanistan   2014  33370.794\n",
       "2     Afghanistan   2015  34413.603\n",
       "3     Afghanistan   2016  35383.032\n",
       "4     Afghanistan   2017  36296.113\n",
       "...           ...    ...        ...\n",
       "1411     Zimbabwe   2014  13586.707\n",
       "1412     Zimbabwe   2015  13814.629\n",
       "1413     Zimbabwe   2016  14030.331\n",
       "1414     Zimbabwe   2017  14236.595\n",
       "1415     Zimbabwe   2018  14438.802\n",
       "\n",
       "[1416 rows x 3 columns]>"
      ]
     },
     "execution_count": 6,
     "metadata": {},
     "output_type": "execute_result"
    }
   ],
   "source": [
    "#Le nombre de valeurs présentes dans chacune des colonnes\n",
    "population.count"
   ]
  },
  {
   "cell_type": "code",
   "execution_count": 7,
   "id": "3e50d9e6",
   "metadata": {},
   "outputs": [
    {
     "data": {
      "text/html": [
       "<div>\n",
       "<style scoped>\n",
       "    .dataframe tbody tr th:only-of-type {\n",
       "        vertical-align: middle;\n",
       "    }\n",
       "\n",
       "    .dataframe tbody tr th {\n",
       "        vertical-align: top;\n",
       "    }\n",
       "\n",
       "    .dataframe thead th {\n",
       "        text-align: right;\n",
       "    }\n",
       "</style>\n",
       "<table border=\"1\" class=\"dataframe\">\n",
       "  <thead>\n",
       "    <tr style=\"text-align: right;\">\n",
       "      <th></th>\n",
       "      <th>Zone</th>\n",
       "      <th>Année</th>\n",
       "      <th>Valeur</th>\n",
       "    </tr>\n",
       "  </thead>\n",
       "  <tbody>\n",
       "    <tr>\n",
       "      <th>0</th>\n",
       "      <td>Afghanistan</td>\n",
       "      <td>2013</td>\n",
       "      <td>32269.589</td>\n",
       "    </tr>\n",
       "    <tr>\n",
       "      <th>1</th>\n",
       "      <td>Afghanistan</td>\n",
       "      <td>2014</td>\n",
       "      <td>33370.794</td>\n",
       "    </tr>\n",
       "    <tr>\n",
       "      <th>2</th>\n",
       "      <td>Afghanistan</td>\n",
       "      <td>2015</td>\n",
       "      <td>34413.603</td>\n",
       "    </tr>\n",
       "    <tr>\n",
       "      <th>3</th>\n",
       "      <td>Afghanistan</td>\n",
       "      <td>2016</td>\n",
       "      <td>35383.032</td>\n",
       "    </tr>\n",
       "    <tr>\n",
       "      <th>4</th>\n",
       "      <td>Afghanistan</td>\n",
       "      <td>2017</td>\n",
       "      <td>36296.113</td>\n",
       "    </tr>\n",
       "  </tbody>\n",
       "</table>\n",
       "</div>"
      ],
      "text/plain": [
       "          Zone  Année     Valeur\n",
       "0  Afghanistan   2013  32269.589\n",
       "1  Afghanistan   2014  33370.794\n",
       "2  Afghanistan   2015  34413.603\n",
       "3  Afghanistan   2016  35383.032\n",
       "4  Afghanistan   2017  36296.113"
      ]
     },
     "execution_count": 7,
     "metadata": {},
     "output_type": "execute_result"
    }
   ],
   "source": [
    "#Affichage les 5 premières lignes de la table\n",
    "population.head(5)"
   ]
  },
  {
   "cell_type": "code",
   "execution_count": 8,
   "id": "ab1a4af4",
   "metadata": {},
   "outputs": [],
   "source": [
    "#Nous allons harmoniser les unités. Pour cela, nous avons décidé de multiplier la population par 1000\n",
    "#Multiplication de la colonne valeur par 1000\n",
    "population['Valeur'] *= 1000"
   ]
  },
  {
   "cell_type": "code",
   "execution_count": 9,
   "id": "38836b61",
   "metadata": {},
   "outputs": [],
   "source": [
    "#changement du nom de la colonne Valeur par Population\n",
    "population.rename(columns = {'Valeur' : 'Population'}, inplace = True)"
   ]
  },
  {
   "cell_type": "code",
   "execution_count": 10,
   "id": "ff707561",
   "metadata": {},
   "outputs": [
    {
     "data": {
      "text/html": [
       "<div>\n",
       "<style scoped>\n",
       "    .dataframe tbody tr th:only-of-type {\n",
       "        vertical-align: middle;\n",
       "    }\n",
       "\n",
       "    .dataframe tbody tr th {\n",
       "        vertical-align: top;\n",
       "    }\n",
       "\n",
       "    .dataframe thead th {\n",
       "        text-align: right;\n",
       "    }\n",
       "</style>\n",
       "<table border=\"1\" class=\"dataframe\">\n",
       "  <thead>\n",
       "    <tr style=\"text-align: right;\">\n",
       "      <th></th>\n",
       "      <th>Zone</th>\n",
       "      <th>Année</th>\n",
       "      <th>Population</th>\n",
       "    </tr>\n",
       "  </thead>\n",
       "  <tbody>\n",
       "    <tr>\n",
       "      <th>0</th>\n",
       "      <td>Afghanistan</td>\n",
       "      <td>2013</td>\n",
       "      <td>32269589.0</td>\n",
       "    </tr>\n",
       "    <tr>\n",
       "      <th>1</th>\n",
       "      <td>Afghanistan</td>\n",
       "      <td>2014</td>\n",
       "      <td>33370794.0</td>\n",
       "    </tr>\n",
       "    <tr>\n",
       "      <th>2</th>\n",
       "      <td>Afghanistan</td>\n",
       "      <td>2015</td>\n",
       "      <td>34413603.0</td>\n",
       "    </tr>\n",
       "    <tr>\n",
       "      <th>3</th>\n",
       "      <td>Afghanistan</td>\n",
       "      <td>2016</td>\n",
       "      <td>35383032.0</td>\n",
       "    </tr>\n",
       "    <tr>\n",
       "      <th>4</th>\n",
       "      <td>Afghanistan</td>\n",
       "      <td>2017</td>\n",
       "      <td>36296113.0</td>\n",
       "    </tr>\n",
       "  </tbody>\n",
       "</table>\n",
       "</div>"
      ],
      "text/plain": [
       "          Zone  Année  Population\n",
       "0  Afghanistan   2013  32269589.0\n",
       "1  Afghanistan   2014  33370794.0\n",
       "2  Afghanistan   2015  34413603.0\n",
       "3  Afghanistan   2016  35383032.0\n",
       "4  Afghanistan   2017  36296113.0"
      ]
     },
     "execution_count": 10,
     "metadata": {},
     "output_type": "execute_result"
    }
   ],
   "source": [
    "#Affichage les 5 premières lignes de la table pour voir les modifications\n",
    "population.head()"
   ]
  },
  {
   "cell_type": "markdown",
   "id": "4224b896",
   "metadata": {},
   "source": [
    "<div style=\"border: 1px solid RGB(0,150,250);\" >\n",
    "<h3 style=\"margin: auto; padding: 20px; color: RGB(0,150,250); \">2.2 - Analyse exploratoire du fichier disponibilité alimentaire</h3>\n",
    "</div>"
   ]
  },
  {
   "cell_type": "code",
   "execution_count": 11,
   "id": "38f5b838",
   "metadata": {},
   "outputs": [
    {
     "name": "stdout",
     "output_type": "stream",
     "text": [
      "Le tableau comporte 15605 observation(s) ou article(s)\n",
      "Le tableau comporte 18 colonne(s)\n"
     ]
    }
   ],
   "source": [
    "#Afficher les dimensions du dataset\n",
    "print(\"Le tableau comporte {} observation(s) ou article(s)\".format(dispo_alimentaire.shape[0]))\n",
    "print(\"Le tableau comporte {} colonne(s)\".format(dispo_alimentaire.shape[1]))"
   ]
  },
  {
   "cell_type": "code",
   "execution_count": 12,
   "id": "99735a22",
   "metadata": {},
   "outputs": [
    {
     "data": {
      "text/plain": [
       "Index(['Zone', 'Produit', 'Origine', 'Aliments pour animaux',\n",
       "       'Autres Utilisations', 'Disponibilité alimentaire (Kcal/personne/jour)',\n",
       "       'Disponibilité alimentaire en quantité (kg/personne/an)',\n",
       "       'Disponibilité de matière grasse en quantité (g/personne/jour)',\n",
       "       'Disponibilité de protéines en quantité (g/personne/jour)',\n",
       "       'Disponibilité intérieure', 'Exportations - Quantité',\n",
       "       'Importations - Quantité', 'Nourriture', 'Pertes', 'Production',\n",
       "       'Semences', 'Traitement', 'Variation de stock'],\n",
       "      dtype='object')"
      ]
     },
     "execution_count": 12,
     "metadata": {},
     "output_type": "execute_result"
    }
   ],
   "source": [
    "#Consulter le nombre de colonnes\n",
    "dispo_alimentaire.columns"
   ]
  },
  {
   "cell_type": "code",
   "execution_count": 13,
   "id": "0058032d",
   "metadata": {},
   "outputs": [
    {
     "data": {
      "text/html": [
       "<div>\n",
       "<style scoped>\n",
       "    .dataframe tbody tr th:only-of-type {\n",
       "        vertical-align: middle;\n",
       "    }\n",
       "\n",
       "    .dataframe tbody tr th {\n",
       "        vertical-align: top;\n",
       "    }\n",
       "\n",
       "    .dataframe thead th {\n",
       "        text-align: right;\n",
       "    }\n",
       "</style>\n",
       "<table border=\"1\" class=\"dataframe\">\n",
       "  <thead>\n",
       "    <tr style=\"text-align: right;\">\n",
       "      <th></th>\n",
       "      <th>Zone</th>\n",
       "      <th>Produit</th>\n",
       "      <th>Origine</th>\n",
       "      <th>Aliments pour animaux</th>\n",
       "      <th>Autres Utilisations</th>\n",
       "      <th>Disponibilité alimentaire (Kcal/personne/jour)</th>\n",
       "      <th>Disponibilité alimentaire en quantité (kg/personne/an)</th>\n",
       "      <th>Disponibilité de matière grasse en quantité (g/personne/jour)</th>\n",
       "      <th>Disponibilité de protéines en quantité (g/personne/jour)</th>\n",
       "      <th>Disponibilité intérieure</th>\n",
       "      <th>Exportations - Quantité</th>\n",
       "      <th>Importations - Quantité</th>\n",
       "      <th>Nourriture</th>\n",
       "      <th>Pertes</th>\n",
       "      <th>Production</th>\n",
       "      <th>Semences</th>\n",
       "      <th>Traitement</th>\n",
       "      <th>Variation de stock</th>\n",
       "    </tr>\n",
       "  </thead>\n",
       "  <tbody>\n",
       "    <tr>\n",
       "      <th>0</th>\n",
       "      <td>Afghanistan</td>\n",
       "      <td>Abats Comestible</td>\n",
       "      <td>animale</td>\n",
       "      <td>NaN</td>\n",
       "      <td>NaN</td>\n",
       "      <td>5.0</td>\n",
       "      <td>1.72</td>\n",
       "      <td>0.20</td>\n",
       "      <td>0.77</td>\n",
       "      <td>53.0</td>\n",
       "      <td>NaN</td>\n",
       "      <td>NaN</td>\n",
       "      <td>53.0</td>\n",
       "      <td>NaN</td>\n",
       "      <td>53.0</td>\n",
       "      <td>NaN</td>\n",
       "      <td>NaN</td>\n",
       "      <td>NaN</td>\n",
       "    </tr>\n",
       "    <tr>\n",
       "      <th>1</th>\n",
       "      <td>Afghanistan</td>\n",
       "      <td>Agrumes, Autres</td>\n",
       "      <td>vegetale</td>\n",
       "      <td>NaN</td>\n",
       "      <td>NaN</td>\n",
       "      <td>1.0</td>\n",
       "      <td>1.29</td>\n",
       "      <td>0.01</td>\n",
       "      <td>0.02</td>\n",
       "      <td>41.0</td>\n",
       "      <td>2.0</td>\n",
       "      <td>40.0</td>\n",
       "      <td>39.0</td>\n",
       "      <td>2.0</td>\n",
       "      <td>3.0</td>\n",
       "      <td>NaN</td>\n",
       "      <td>NaN</td>\n",
       "      <td>NaN</td>\n",
       "    </tr>\n",
       "    <tr>\n",
       "      <th>2</th>\n",
       "      <td>Afghanistan</td>\n",
       "      <td>Aliments pour enfants</td>\n",
       "      <td>vegetale</td>\n",
       "      <td>NaN</td>\n",
       "      <td>NaN</td>\n",
       "      <td>1.0</td>\n",
       "      <td>0.06</td>\n",
       "      <td>0.01</td>\n",
       "      <td>0.03</td>\n",
       "      <td>2.0</td>\n",
       "      <td>NaN</td>\n",
       "      <td>2.0</td>\n",
       "      <td>2.0</td>\n",
       "      <td>NaN</td>\n",
       "      <td>NaN</td>\n",
       "      <td>NaN</td>\n",
       "      <td>NaN</td>\n",
       "      <td>NaN</td>\n",
       "    </tr>\n",
       "    <tr>\n",
       "      <th>3</th>\n",
       "      <td>Afghanistan</td>\n",
       "      <td>Ananas</td>\n",
       "      <td>vegetale</td>\n",
       "      <td>NaN</td>\n",
       "      <td>NaN</td>\n",
       "      <td>0.0</td>\n",
       "      <td>0.00</td>\n",
       "      <td>NaN</td>\n",
       "      <td>NaN</td>\n",
       "      <td>0.0</td>\n",
       "      <td>NaN</td>\n",
       "      <td>0.0</td>\n",
       "      <td>0.0</td>\n",
       "      <td>NaN</td>\n",
       "      <td>NaN</td>\n",
       "      <td>NaN</td>\n",
       "      <td>NaN</td>\n",
       "      <td>NaN</td>\n",
       "    </tr>\n",
       "    <tr>\n",
       "      <th>4</th>\n",
       "      <td>Afghanistan</td>\n",
       "      <td>Bananes</td>\n",
       "      <td>vegetale</td>\n",
       "      <td>NaN</td>\n",
       "      <td>NaN</td>\n",
       "      <td>4.0</td>\n",
       "      <td>2.70</td>\n",
       "      <td>0.02</td>\n",
       "      <td>0.05</td>\n",
       "      <td>82.0</td>\n",
       "      <td>NaN</td>\n",
       "      <td>82.0</td>\n",
       "      <td>82.0</td>\n",
       "      <td>NaN</td>\n",
       "      <td>NaN</td>\n",
       "      <td>NaN</td>\n",
       "      <td>NaN</td>\n",
       "      <td>NaN</td>\n",
       "    </tr>\n",
       "  </tbody>\n",
       "</table>\n",
       "</div>"
      ],
      "text/plain": [
       "          Zone                Produit   Origine  Aliments pour animaux  \\\n",
       "0  Afghanistan       Abats Comestible   animale                    NaN   \n",
       "1  Afghanistan        Agrumes, Autres  vegetale                    NaN   \n",
       "2  Afghanistan  Aliments pour enfants  vegetale                    NaN   \n",
       "3  Afghanistan                 Ananas  vegetale                    NaN   \n",
       "4  Afghanistan                Bananes  vegetale                    NaN   \n",
       "\n",
       "   Autres Utilisations  Disponibilité alimentaire (Kcal/personne/jour)  \\\n",
       "0                  NaN                                             5.0   \n",
       "1                  NaN                                             1.0   \n",
       "2                  NaN                                             1.0   \n",
       "3                  NaN                                             0.0   \n",
       "4                  NaN                                             4.0   \n",
       "\n",
       "   Disponibilité alimentaire en quantité (kg/personne/an)  \\\n",
       "0                                               1.72        \n",
       "1                                               1.29        \n",
       "2                                               0.06        \n",
       "3                                               0.00        \n",
       "4                                               2.70        \n",
       "\n",
       "   Disponibilité de matière grasse en quantité (g/personne/jour)  \\\n",
       "0                                               0.20               \n",
       "1                                               0.01               \n",
       "2                                               0.01               \n",
       "3                                                NaN               \n",
       "4                                               0.02               \n",
       "\n",
       "   Disponibilité de protéines en quantité (g/personne/jour)  \\\n",
       "0                                               0.77          \n",
       "1                                               0.02          \n",
       "2                                               0.03          \n",
       "3                                                NaN          \n",
       "4                                               0.05          \n",
       "\n",
       "   Disponibilité intérieure  Exportations - Quantité  Importations - Quantité  \\\n",
       "0                      53.0                      NaN                      NaN   \n",
       "1                      41.0                      2.0                     40.0   \n",
       "2                       2.0                      NaN                      2.0   \n",
       "3                       0.0                      NaN                      0.0   \n",
       "4                      82.0                      NaN                     82.0   \n",
       "\n",
       "   Nourriture  Pertes  Production  Semences  Traitement  Variation de stock  \n",
       "0        53.0     NaN        53.0       NaN         NaN                 NaN  \n",
       "1        39.0     2.0         3.0       NaN         NaN                 NaN  \n",
       "2         2.0     NaN         NaN       NaN         NaN                 NaN  \n",
       "3         0.0     NaN         NaN       NaN         NaN                 NaN  \n",
       "4        82.0     NaN         NaN       NaN         NaN                 NaN  "
      ]
     },
     "execution_count": 13,
     "metadata": {},
     "output_type": "execute_result"
    }
   ],
   "source": [
    "#Affichage les 5 premières lignes de la table\n",
    "dispo_alimentaire.head(5)"
   ]
  },
  {
   "cell_type": "code",
   "execution_count": 14,
   "id": "f3832569",
   "metadata": {},
   "outputs": [],
   "source": [
    "#remplacement des NaN dans le dataset par des 0\n",
    "dispo_alimentaire.fillna(0, inplace=True)"
   ]
  },
  {
   "cell_type": "code",
   "execution_count": 15,
   "id": "db4432e3",
   "metadata": {},
   "outputs": [],
   "source": [
    "# Multiplication de toutes les lignes contenant des milliers de tonnes en Kg\n",
    "# Liste des colonnes à convertir de milliers de tonnes en kilogrammes\n",
    "colonnes_a_convertir = [\n",
    "    'Aliments pour animaux',\n",
    "    'Autres Utilisations',\n",
    "    'Disponibilité intérieure',\n",
    "    'Exportations - Quantité',\n",
    "    'Importations - Quantité',\n",
    "    'Nourriture',\n",
    "    'Pertes',\n",
    "    'Production',\n",
    "    'Semences',\n",
    "    'Traitement',\n",
    "    'Variation de stock']\n",
    "\n",
    "# Boucle pour convertir les colonnes en kilogrammes\n",
    "for colonne in colonnes_a_convertir:\n",
    "    dispo_alimentaire[colonne] *= 1000 \n"
   ]
  },
  {
   "cell_type": "code",
   "execution_count": 16,
   "id": "7f1689bf",
   "metadata": {},
   "outputs": [
    {
     "data": {
      "text/html": [
       "<div>\n",
       "<style scoped>\n",
       "    .dataframe tbody tr th:only-of-type {\n",
       "        vertical-align: middle;\n",
       "    }\n",
       "\n",
       "    .dataframe tbody tr th {\n",
       "        vertical-align: top;\n",
       "    }\n",
       "\n",
       "    .dataframe thead th {\n",
       "        text-align: right;\n",
       "    }\n",
       "</style>\n",
       "<table border=\"1\" class=\"dataframe\">\n",
       "  <thead>\n",
       "    <tr style=\"text-align: right;\">\n",
       "      <th></th>\n",
       "      <th>Zone</th>\n",
       "      <th>Produit</th>\n",
       "      <th>Origine</th>\n",
       "      <th>Aliments pour animaux</th>\n",
       "      <th>Autres Utilisations</th>\n",
       "      <th>Disponibilité alimentaire (Kcal/personne/jour)</th>\n",
       "      <th>Disponibilité alimentaire en quantité (kg/personne/an)</th>\n",
       "      <th>Disponibilité de matière grasse en quantité (g/personne/jour)</th>\n",
       "      <th>Disponibilité de protéines en quantité (g/personne/jour)</th>\n",
       "      <th>Disponibilité intérieure</th>\n",
       "      <th>Exportations - Quantité</th>\n",
       "      <th>Importations - Quantité</th>\n",
       "      <th>Nourriture</th>\n",
       "      <th>Pertes</th>\n",
       "      <th>Production</th>\n",
       "      <th>Semences</th>\n",
       "      <th>Traitement</th>\n",
       "      <th>Variation de stock</th>\n",
       "    </tr>\n",
       "  </thead>\n",
       "  <tbody>\n",
       "    <tr>\n",
       "      <th>0</th>\n",
       "      <td>Afghanistan</td>\n",
       "      <td>Abats Comestible</td>\n",
       "      <td>animale</td>\n",
       "      <td>0.0</td>\n",
       "      <td>0.0</td>\n",
       "      <td>5.0</td>\n",
       "      <td>1.72</td>\n",
       "      <td>0.20</td>\n",
       "      <td>0.77</td>\n",
       "      <td>53000.0</td>\n",
       "      <td>0.0</td>\n",
       "      <td>0.0</td>\n",
       "      <td>53000.0</td>\n",
       "      <td>0.0</td>\n",
       "      <td>53000.0</td>\n",
       "      <td>0.0</td>\n",
       "      <td>0.0</td>\n",
       "      <td>0.0</td>\n",
       "    </tr>\n",
       "    <tr>\n",
       "      <th>1</th>\n",
       "      <td>Afghanistan</td>\n",
       "      <td>Agrumes, Autres</td>\n",
       "      <td>vegetale</td>\n",
       "      <td>0.0</td>\n",
       "      <td>0.0</td>\n",
       "      <td>1.0</td>\n",
       "      <td>1.29</td>\n",
       "      <td>0.01</td>\n",
       "      <td>0.02</td>\n",
       "      <td>41000.0</td>\n",
       "      <td>2000.0</td>\n",
       "      <td>40000.0</td>\n",
       "      <td>39000.0</td>\n",
       "      <td>2000.0</td>\n",
       "      <td>3000.0</td>\n",
       "      <td>0.0</td>\n",
       "      <td>0.0</td>\n",
       "      <td>0.0</td>\n",
       "    </tr>\n",
       "    <tr>\n",
       "      <th>2</th>\n",
       "      <td>Afghanistan</td>\n",
       "      <td>Aliments pour enfants</td>\n",
       "      <td>vegetale</td>\n",
       "      <td>0.0</td>\n",
       "      <td>0.0</td>\n",
       "      <td>1.0</td>\n",
       "      <td>0.06</td>\n",
       "      <td>0.01</td>\n",
       "      <td>0.03</td>\n",
       "      <td>2000.0</td>\n",
       "      <td>0.0</td>\n",
       "      <td>2000.0</td>\n",
       "      <td>2000.0</td>\n",
       "      <td>0.0</td>\n",
       "      <td>0.0</td>\n",
       "      <td>0.0</td>\n",
       "      <td>0.0</td>\n",
       "      <td>0.0</td>\n",
       "    </tr>\n",
       "    <tr>\n",
       "      <th>3</th>\n",
       "      <td>Afghanistan</td>\n",
       "      <td>Ananas</td>\n",
       "      <td>vegetale</td>\n",
       "      <td>0.0</td>\n",
       "      <td>0.0</td>\n",
       "      <td>0.0</td>\n",
       "      <td>0.00</td>\n",
       "      <td>0.00</td>\n",
       "      <td>0.00</td>\n",
       "      <td>0.0</td>\n",
       "      <td>0.0</td>\n",
       "      <td>0.0</td>\n",
       "      <td>0.0</td>\n",
       "      <td>0.0</td>\n",
       "      <td>0.0</td>\n",
       "      <td>0.0</td>\n",
       "      <td>0.0</td>\n",
       "      <td>0.0</td>\n",
       "    </tr>\n",
       "    <tr>\n",
       "      <th>4</th>\n",
       "      <td>Afghanistan</td>\n",
       "      <td>Bananes</td>\n",
       "      <td>vegetale</td>\n",
       "      <td>0.0</td>\n",
       "      <td>0.0</td>\n",
       "      <td>4.0</td>\n",
       "      <td>2.70</td>\n",
       "      <td>0.02</td>\n",
       "      <td>0.05</td>\n",
       "      <td>82000.0</td>\n",
       "      <td>0.0</td>\n",
       "      <td>82000.0</td>\n",
       "      <td>82000.0</td>\n",
       "      <td>0.0</td>\n",
       "      <td>0.0</td>\n",
       "      <td>0.0</td>\n",
       "      <td>0.0</td>\n",
       "      <td>0.0</td>\n",
       "    </tr>\n",
       "  </tbody>\n",
       "</table>\n",
       "</div>"
      ],
      "text/plain": [
       "          Zone                Produit   Origine  Aliments pour animaux  \\\n",
       "0  Afghanistan       Abats Comestible   animale                    0.0   \n",
       "1  Afghanistan        Agrumes, Autres  vegetale                    0.0   \n",
       "2  Afghanistan  Aliments pour enfants  vegetale                    0.0   \n",
       "3  Afghanistan                 Ananas  vegetale                    0.0   \n",
       "4  Afghanistan                Bananes  vegetale                    0.0   \n",
       "\n",
       "   Autres Utilisations  Disponibilité alimentaire (Kcal/personne/jour)  \\\n",
       "0                  0.0                                             5.0   \n",
       "1                  0.0                                             1.0   \n",
       "2                  0.0                                             1.0   \n",
       "3                  0.0                                             0.0   \n",
       "4                  0.0                                             4.0   \n",
       "\n",
       "   Disponibilité alimentaire en quantité (kg/personne/an)  \\\n",
       "0                                               1.72        \n",
       "1                                               1.29        \n",
       "2                                               0.06        \n",
       "3                                               0.00        \n",
       "4                                               2.70        \n",
       "\n",
       "   Disponibilité de matière grasse en quantité (g/personne/jour)  \\\n",
       "0                                               0.20               \n",
       "1                                               0.01               \n",
       "2                                               0.01               \n",
       "3                                               0.00               \n",
       "4                                               0.02               \n",
       "\n",
       "   Disponibilité de protéines en quantité (g/personne/jour)  \\\n",
       "0                                               0.77          \n",
       "1                                               0.02          \n",
       "2                                               0.03          \n",
       "3                                               0.00          \n",
       "4                                               0.05          \n",
       "\n",
       "   Disponibilité intérieure  Exportations - Quantité  Importations - Quantité  \\\n",
       "0                   53000.0                      0.0                      0.0   \n",
       "1                   41000.0                   2000.0                  40000.0   \n",
       "2                    2000.0                      0.0                   2000.0   \n",
       "3                       0.0                      0.0                      0.0   \n",
       "4                   82000.0                      0.0                  82000.0   \n",
       "\n",
       "   Nourriture  Pertes  Production  Semences  Traitement  Variation de stock  \n",
       "0     53000.0     0.0     53000.0       0.0         0.0                 0.0  \n",
       "1     39000.0  2000.0      3000.0       0.0         0.0                 0.0  \n",
       "2      2000.0     0.0         0.0       0.0         0.0                 0.0  \n",
       "3         0.0     0.0         0.0       0.0         0.0                 0.0  \n",
       "4     82000.0     0.0         0.0       0.0         0.0                 0.0  "
      ]
     },
     "execution_count": 16,
     "metadata": {},
     "output_type": "execute_result"
    }
   ],
   "source": [
    "#Affichage les 5 premières lignes de la table\n",
    "dispo_alimentaire.head()"
   ]
  },
  {
   "cell_type": "markdown",
   "id": "a09233e4",
   "metadata": {},
   "source": [
    "<div style=\"border: 1px solid RGB(0,150,250);\" >\n",
    "<h3 style=\"margin: auto; padding: 20px; color: RGB(0,150,250); \">2.3 - Analyse exploratoire du fichier aide alimentaire</h3>\n",
    "</div>"
   ]
  },
  {
   "cell_type": "code",
   "execution_count": 17,
   "id": "702f6322",
   "metadata": {},
   "outputs": [
    {
     "name": "stdout",
     "output_type": "stream",
     "text": [
      "Le tableau comporte 1475 observation(s) ou article(s)\n",
      "Le tableau comporte 4 colonne(s)\n"
     ]
    }
   ],
   "source": [
    "#Afficher les dimensions du dataset\n",
    "print(\"Le tableau comporte {} observation(s) ou article(s)\".format(aide_alimentaire.shape[0]))\n",
    "print(\"Le tableau comporte {} colonne(s)\".format(aide_alimentaire.shape[1]))"
   ]
  },
  {
   "cell_type": "code",
   "execution_count": 18,
   "id": "8fead3f9",
   "metadata": {},
   "outputs": [
    {
     "data": {
      "text/plain": [
       "Index(['Pays bénéficiaire', 'Année', 'Produit', 'Valeur'], dtype='object')"
      ]
     },
     "execution_count": 18,
     "metadata": {},
     "output_type": "execute_result"
    }
   ],
   "source": [
    "#Consulter le nombre de colonnes\n",
    "aide_alimentaire.columns"
   ]
  },
  {
   "cell_type": "code",
   "execution_count": 19,
   "id": "443ec245",
   "metadata": {},
   "outputs": [
    {
     "data": {
      "text/html": [
       "<div>\n",
       "<style scoped>\n",
       "    .dataframe tbody tr th:only-of-type {\n",
       "        vertical-align: middle;\n",
       "    }\n",
       "\n",
       "    .dataframe tbody tr th {\n",
       "        vertical-align: top;\n",
       "    }\n",
       "\n",
       "    .dataframe thead th {\n",
       "        text-align: right;\n",
       "    }\n",
       "</style>\n",
       "<table border=\"1\" class=\"dataframe\">\n",
       "  <thead>\n",
       "    <tr style=\"text-align: right;\">\n",
       "      <th></th>\n",
       "      <th>Pays bénéficiaire</th>\n",
       "      <th>Année</th>\n",
       "      <th>Produit</th>\n",
       "      <th>Valeur</th>\n",
       "    </tr>\n",
       "  </thead>\n",
       "  <tbody>\n",
       "    <tr>\n",
       "      <th>0</th>\n",
       "      <td>Afghanistan</td>\n",
       "      <td>2013</td>\n",
       "      <td>Autres non-céréales</td>\n",
       "      <td>682</td>\n",
       "    </tr>\n",
       "    <tr>\n",
       "      <th>1</th>\n",
       "      <td>Afghanistan</td>\n",
       "      <td>2014</td>\n",
       "      <td>Autres non-céréales</td>\n",
       "      <td>335</td>\n",
       "    </tr>\n",
       "    <tr>\n",
       "      <th>2</th>\n",
       "      <td>Afghanistan</td>\n",
       "      <td>2013</td>\n",
       "      <td>Blé et Farin</td>\n",
       "      <td>39224</td>\n",
       "    </tr>\n",
       "    <tr>\n",
       "      <th>3</th>\n",
       "      <td>Afghanistan</td>\n",
       "      <td>2014</td>\n",
       "      <td>Blé et Farin</td>\n",
       "      <td>15160</td>\n",
       "    </tr>\n",
       "    <tr>\n",
       "      <th>4</th>\n",
       "      <td>Afghanistan</td>\n",
       "      <td>2013</td>\n",
       "      <td>Céréales</td>\n",
       "      <td>40504</td>\n",
       "    </tr>\n",
       "  </tbody>\n",
       "</table>\n",
       "</div>"
      ],
      "text/plain": [
       "  Pays bénéficiaire  Année              Produit  Valeur\n",
       "0       Afghanistan   2013  Autres non-céréales     682\n",
       "1       Afghanistan   2014  Autres non-céréales     335\n",
       "2       Afghanistan   2013         Blé et Farin   39224\n",
       "3       Afghanistan   2014         Blé et Farin   15160\n",
       "4       Afghanistan   2013             Céréales   40504"
      ]
     },
     "execution_count": 19,
     "metadata": {},
     "output_type": "execute_result"
    }
   ],
   "source": [
    "#Affichage les 5 premières lignes de la table\n",
    "aide_alimentaire.head(5)"
   ]
  },
  {
   "cell_type": "code",
   "execution_count": 20,
   "id": "af47212b",
   "metadata": {},
   "outputs": [],
   "source": [
    "#changement du nom de la colonne Pays bénéficiaire par Zone\n",
    "aide_alimentaire.rename(columns = {'Pays bénéficiaire' : 'Zone'}, inplace=True)"
   ]
  },
  {
   "cell_type": "code",
   "execution_count": 21,
   "id": "c32cd1d8",
   "metadata": {},
   "outputs": [],
   "source": [
    "#Multiplication de la colonne Aide_alimentaire qui contient des tonnes par 1000 pour avoir des kg\n",
    "aide_alimentaire['Valeur'] *= 1000"
   ]
  },
  {
   "cell_type": "code",
   "execution_count": 22,
   "id": "d951d8df",
   "metadata": {},
   "outputs": [
    {
     "data": {
      "text/html": [
       "<div>\n",
       "<style scoped>\n",
       "    .dataframe tbody tr th:only-of-type {\n",
       "        vertical-align: middle;\n",
       "    }\n",
       "\n",
       "    .dataframe tbody tr th {\n",
       "        vertical-align: top;\n",
       "    }\n",
       "\n",
       "    .dataframe thead th {\n",
       "        text-align: right;\n",
       "    }\n",
       "</style>\n",
       "<table border=\"1\" class=\"dataframe\">\n",
       "  <thead>\n",
       "    <tr style=\"text-align: right;\">\n",
       "      <th></th>\n",
       "      <th>Zone</th>\n",
       "      <th>Année</th>\n",
       "      <th>Produit</th>\n",
       "      <th>Valeur</th>\n",
       "    </tr>\n",
       "  </thead>\n",
       "  <tbody>\n",
       "    <tr>\n",
       "      <th>0</th>\n",
       "      <td>Afghanistan</td>\n",
       "      <td>2013</td>\n",
       "      <td>Autres non-céréales</td>\n",
       "      <td>682000</td>\n",
       "    </tr>\n",
       "    <tr>\n",
       "      <th>1</th>\n",
       "      <td>Afghanistan</td>\n",
       "      <td>2014</td>\n",
       "      <td>Autres non-céréales</td>\n",
       "      <td>335000</td>\n",
       "    </tr>\n",
       "    <tr>\n",
       "      <th>2</th>\n",
       "      <td>Afghanistan</td>\n",
       "      <td>2013</td>\n",
       "      <td>Blé et Farin</td>\n",
       "      <td>39224000</td>\n",
       "    </tr>\n",
       "    <tr>\n",
       "      <th>3</th>\n",
       "      <td>Afghanistan</td>\n",
       "      <td>2014</td>\n",
       "      <td>Blé et Farin</td>\n",
       "      <td>15160000</td>\n",
       "    </tr>\n",
       "    <tr>\n",
       "      <th>4</th>\n",
       "      <td>Afghanistan</td>\n",
       "      <td>2013</td>\n",
       "      <td>Céréales</td>\n",
       "      <td>40504000</td>\n",
       "    </tr>\n",
       "  </tbody>\n",
       "</table>\n",
       "</div>"
      ],
      "text/plain": [
       "          Zone  Année              Produit    Valeur\n",
       "0  Afghanistan   2013  Autres non-céréales    682000\n",
       "1  Afghanistan   2014  Autres non-céréales    335000\n",
       "2  Afghanistan   2013         Blé et Farin  39224000\n",
       "3  Afghanistan   2014         Blé et Farin  15160000\n",
       "4  Afghanistan   2013             Céréales  40504000"
      ]
     },
     "execution_count": 22,
     "metadata": {},
     "output_type": "execute_result"
    }
   ],
   "source": [
    "#Affichage les 5 premières lignes de la table\n",
    "aide_alimentaire.head()"
   ]
  },
  {
   "cell_type": "markdown",
   "id": "eeae9043",
   "metadata": {},
   "source": [
    "<div style=\"border: 1px solid RGB(0,150,250);\" >\n",
    "<h3 style=\"margin: auto; padding: 20px; color: RGB(0,150,250); \">2.3 - Analyse exploratoire du fichier sous nutrition</h3>\n",
    "</div>"
   ]
  },
  {
   "cell_type": "code",
   "execution_count": 23,
   "id": "882add3d",
   "metadata": {},
   "outputs": [
    {
     "name": "stdout",
     "output_type": "stream",
     "text": [
      "Le tableau comporte 1218 observation(s) ou article(s)\n",
      "Le tableau comporte 3 colonne(s)\n"
     ]
    }
   ],
   "source": [
    "#Afficher les dimensions du dataset\n",
    "print(\"Le tableau comporte {} observation(s) ou article(s)\".format(sous_nutrition.shape[0]))\n",
    "print(\"Le tableau comporte {} colonne(s)\".format(sous_nutrition.shape[1]))"
   ]
  },
  {
   "cell_type": "code",
   "execution_count": 24,
   "id": "70c1a7a9",
   "metadata": {},
   "outputs": [
    {
     "data": {
      "text/plain": [
       "Index(['Zone', 'Année', 'Valeur'], dtype='object')"
      ]
     },
     "execution_count": 24,
     "metadata": {},
     "output_type": "execute_result"
    }
   ],
   "source": [
    "#Consulter le nombre de colonnes\n",
    "sous_nutrition.columns"
   ]
  },
  {
   "cell_type": "code",
   "execution_count": 25,
   "id": "5c6469e5",
   "metadata": {},
   "outputs": [
    {
     "data": {
      "text/html": [
       "<div>\n",
       "<style scoped>\n",
       "    .dataframe tbody tr th:only-of-type {\n",
       "        vertical-align: middle;\n",
       "    }\n",
       "\n",
       "    .dataframe tbody tr th {\n",
       "        vertical-align: top;\n",
       "    }\n",
       "\n",
       "    .dataframe thead th {\n",
       "        text-align: right;\n",
       "    }\n",
       "</style>\n",
       "<table border=\"1\" class=\"dataframe\">\n",
       "  <thead>\n",
       "    <tr style=\"text-align: right;\">\n",
       "      <th></th>\n",
       "      <th>Zone</th>\n",
       "      <th>Année</th>\n",
       "      <th>Valeur</th>\n",
       "    </tr>\n",
       "  </thead>\n",
       "  <tbody>\n",
       "    <tr>\n",
       "      <th>0</th>\n",
       "      <td>Afghanistan</td>\n",
       "      <td>2012-2014</td>\n",
       "      <td>8.6</td>\n",
       "    </tr>\n",
       "    <tr>\n",
       "      <th>1</th>\n",
       "      <td>Afghanistan</td>\n",
       "      <td>2013-2015</td>\n",
       "      <td>8.8</td>\n",
       "    </tr>\n",
       "    <tr>\n",
       "      <th>2</th>\n",
       "      <td>Afghanistan</td>\n",
       "      <td>2014-2016</td>\n",
       "      <td>8.9</td>\n",
       "    </tr>\n",
       "    <tr>\n",
       "      <th>3</th>\n",
       "      <td>Afghanistan</td>\n",
       "      <td>2015-2017</td>\n",
       "      <td>9.7</td>\n",
       "    </tr>\n",
       "    <tr>\n",
       "      <th>4</th>\n",
       "      <td>Afghanistan</td>\n",
       "      <td>2016-2018</td>\n",
       "      <td>10.5</td>\n",
       "    </tr>\n",
       "  </tbody>\n",
       "</table>\n",
       "</div>"
      ],
      "text/plain": [
       "          Zone      Année Valeur\n",
       "0  Afghanistan  2012-2014    8.6\n",
       "1  Afghanistan  2013-2015    8.8\n",
       "2  Afghanistan  2014-2016    8.9\n",
       "3  Afghanistan  2015-2017    9.7\n",
       "4  Afghanistan  2016-2018   10.5"
      ]
     },
     "execution_count": 25,
     "metadata": {},
     "output_type": "execute_result"
    }
   ],
   "source": [
    "#Afficher les 5 premières lignes de la table\n",
    "sous_nutrition.head(5)"
   ]
  },
  {
   "cell_type": "code",
   "execution_count": 26,
   "id": "11b6a6c8",
   "metadata": {},
   "outputs": [],
   "source": [
    "#Conversion de la colonne Valeur en numérique (avec l'argument errors=coerce qui permet de convertir automatiquement les lignes qui ne sont pas des nombres en NaN)\n",
    "sous_nutrition['Valeur'] = pd.to_numeric(sous_nutrition['Valeur'], errors='coerce')"
   ]
  },
  {
   "cell_type": "code",
   "execution_count": 27,
   "id": "d31d2724",
   "metadata": {},
   "outputs": [],
   "source": [
    "#Puis remplacement des NaN en 0\n",
    "sous_nutrition['Valeur'].fillna(0, inplace=True)"
   ]
  },
  {
   "cell_type": "code",
   "execution_count": 28,
   "id": "34c98232",
   "metadata": {},
   "outputs": [],
   "source": [
    "#changement du nom de la colonne Valeur par sous_nutrition\n",
    "sous_nutrition.rename(columns = {\"Valeur\":\"sous_nutrition\"}, inplace=True)"
   ]
  },
  {
   "cell_type": "code",
   "execution_count": 29,
   "id": "002110fa",
   "metadata": {},
   "outputs": [],
   "source": [
    "#Multiplication de la colonne sous_nutrition par 1000000\n",
    "sous_nutrition[\"sous_nutrition\"] *=1000000"
   ]
  },
  {
   "cell_type": "code",
   "execution_count": 30,
   "id": "58259b55",
   "metadata": {},
   "outputs": [
    {
     "data": {
      "text/html": [
       "<div>\n",
       "<style scoped>\n",
       "    .dataframe tbody tr th:only-of-type {\n",
       "        vertical-align: middle;\n",
       "    }\n",
       "\n",
       "    .dataframe tbody tr th {\n",
       "        vertical-align: top;\n",
       "    }\n",
       "\n",
       "    .dataframe thead th {\n",
       "        text-align: right;\n",
       "    }\n",
       "</style>\n",
       "<table border=\"1\" class=\"dataframe\">\n",
       "  <thead>\n",
       "    <tr style=\"text-align: right;\">\n",
       "      <th></th>\n",
       "      <th>Zone</th>\n",
       "      <th>Année</th>\n",
       "      <th>sous_nutrition</th>\n",
       "    </tr>\n",
       "  </thead>\n",
       "  <tbody>\n",
       "    <tr>\n",
       "      <th>0</th>\n",
       "      <td>Afghanistan</td>\n",
       "      <td>2012-2014</td>\n",
       "      <td>8600000.0</td>\n",
       "    </tr>\n",
       "    <tr>\n",
       "      <th>1</th>\n",
       "      <td>Afghanistan</td>\n",
       "      <td>2013-2015</td>\n",
       "      <td>8800000.0</td>\n",
       "    </tr>\n",
       "    <tr>\n",
       "      <th>2</th>\n",
       "      <td>Afghanistan</td>\n",
       "      <td>2014-2016</td>\n",
       "      <td>8900000.0</td>\n",
       "    </tr>\n",
       "    <tr>\n",
       "      <th>3</th>\n",
       "      <td>Afghanistan</td>\n",
       "      <td>2015-2017</td>\n",
       "      <td>9700000.0</td>\n",
       "    </tr>\n",
       "    <tr>\n",
       "      <th>4</th>\n",
       "      <td>Afghanistan</td>\n",
       "      <td>2016-2018</td>\n",
       "      <td>10500000.0</td>\n",
       "    </tr>\n",
       "  </tbody>\n",
       "</table>\n",
       "</div>"
      ],
      "text/plain": [
       "          Zone      Année  sous_nutrition\n",
       "0  Afghanistan  2012-2014       8600000.0\n",
       "1  Afghanistan  2013-2015       8800000.0\n",
       "2  Afghanistan  2014-2016       8900000.0\n",
       "3  Afghanistan  2015-2017       9700000.0\n",
       "4  Afghanistan  2016-2018      10500000.0"
      ]
     },
     "execution_count": 30,
     "metadata": {},
     "output_type": "execute_result"
    }
   ],
   "source": [
    "#Afficher les 5 premières lignes de la table\n",
    "sous_nutrition.head()"
   ]
  },
  {
   "cell_type": "markdown",
   "id": "df6dcabd",
   "metadata": {},
   "source": [
    "<div style=\"border: 1px solid RGB(0,150,250);\" >\n",
    "<h3 style=\"margin: auto; padding: 20px; color: RGB(0,150,250); \">3.1 - Proportion de personnes en sous nutrition</h3>\n",
    "</div>"
   ]
  },
  {
   "cell_type": "code",
   "execution_count": 31,
   "id": "a63e1567",
   "metadata": {},
   "outputs": [],
   "source": [
    "# Il faut tout d'abord faire une jointure entre la table population et la table sous nutrition, en ciblant l'année 2017\n",
    "\n",
    "population_2017 = population[population['Année'] == 2017]\n",
    "sous_nutrition_2017 = sous_nutrition[sous_nutrition['Année'] == '2016-2018']\n",
    "\n",
    "data_2017 = pd.merge(population_2017, sous_nutrition_2017, on = 'Zone', how = 'inner')"
   ]
  },
  {
   "cell_type": "code",
   "execution_count": 32,
   "id": "731eea39",
   "metadata": {},
   "outputs": [
    {
     "data": {
      "text/html": [
       "<div>\n",
       "<style scoped>\n",
       "    .dataframe tbody tr th:only-of-type {\n",
       "        vertical-align: middle;\n",
       "    }\n",
       "\n",
       "    .dataframe tbody tr th {\n",
       "        vertical-align: top;\n",
       "    }\n",
       "\n",
       "    .dataframe thead th {\n",
       "        text-align: right;\n",
       "    }\n",
       "</style>\n",
       "<table border=\"1\" class=\"dataframe\">\n",
       "  <thead>\n",
       "    <tr style=\"text-align: right;\">\n",
       "      <th></th>\n",
       "      <th>Zone</th>\n",
       "      <th>Année_x</th>\n",
       "      <th>Population</th>\n",
       "      <th>Année_y</th>\n",
       "      <th>sous_nutrition</th>\n",
       "    </tr>\n",
       "  </thead>\n",
       "  <tbody>\n",
       "    <tr>\n",
       "      <th>0</th>\n",
       "      <td>Afghanistan</td>\n",
       "      <td>2017</td>\n",
       "      <td>36296113.0</td>\n",
       "      <td>2016-2018</td>\n",
       "      <td>10500000.0</td>\n",
       "    </tr>\n",
       "    <tr>\n",
       "      <th>1</th>\n",
       "      <td>Afrique du Sud</td>\n",
       "      <td>2017</td>\n",
       "      <td>57009756.0</td>\n",
       "      <td>2016-2018</td>\n",
       "      <td>3100000.0</td>\n",
       "    </tr>\n",
       "    <tr>\n",
       "      <th>2</th>\n",
       "      <td>Albanie</td>\n",
       "      <td>2017</td>\n",
       "      <td>2884169.0</td>\n",
       "      <td>2016-2018</td>\n",
       "      <td>100000.0</td>\n",
       "    </tr>\n",
       "    <tr>\n",
       "      <th>3</th>\n",
       "      <td>Algérie</td>\n",
       "      <td>2017</td>\n",
       "      <td>41389189.0</td>\n",
       "      <td>2016-2018</td>\n",
       "      <td>1300000.0</td>\n",
       "    </tr>\n",
       "    <tr>\n",
       "      <th>4</th>\n",
       "      <td>Allemagne</td>\n",
       "      <td>2017</td>\n",
       "      <td>82658409.0</td>\n",
       "      <td>2016-2018</td>\n",
       "      <td>0.0</td>\n",
       "    </tr>\n",
       "  </tbody>\n",
       "</table>\n",
       "</div>"
      ],
      "text/plain": [
       "             Zone  Année_x  Population    Année_y  sous_nutrition\n",
       "0     Afghanistan     2017  36296113.0  2016-2018      10500000.0\n",
       "1  Afrique du Sud     2017  57009756.0  2016-2018       3100000.0\n",
       "2         Albanie     2017   2884169.0  2016-2018        100000.0\n",
       "3         Algérie     2017  41389189.0  2016-2018       1300000.0\n",
       "4       Allemagne     2017  82658409.0  2016-2018             0.0"
      ]
     },
     "execution_count": 32,
     "metadata": {},
     "output_type": "execute_result"
    }
   ],
   "source": [
    "#Affichage du dataset\n",
    "data_2017.head()"
   ]
  },
  {
   "cell_type": "code",
   "execution_count": 33,
   "id": "28e2741f",
   "metadata": {},
   "outputs": [
    {
     "data": {
      "text/html": [
       "<div>\n",
       "<style scoped>\n",
       "    .dataframe tbody tr th:only-of-type {\n",
       "        vertical-align: middle;\n",
       "    }\n",
       "\n",
       "    .dataframe tbody tr th {\n",
       "        vertical-align: top;\n",
       "    }\n",
       "\n",
       "    .dataframe thead th {\n",
       "        text-align: right;\n",
       "    }\n",
       "</style>\n",
       "<table border=\"1\" class=\"dataframe\">\n",
       "  <thead>\n",
       "    <tr style=\"text-align: right;\">\n",
       "      <th></th>\n",
       "      <th>Zone</th>\n",
       "      <th>Proportion_sous_nutrition</th>\n",
       "    </tr>\n",
       "  </thead>\n",
       "  <tbody>\n",
       "    <tr>\n",
       "      <th>0</th>\n",
       "      <td>Afghanistan</td>\n",
       "      <td>28.928718</td>\n",
       "    </tr>\n",
       "    <tr>\n",
       "      <th>1</th>\n",
       "      <td>Afrique du Sud</td>\n",
       "      <td>5.437666</td>\n",
       "    </tr>\n",
       "    <tr>\n",
       "      <th>2</th>\n",
       "      <td>Albanie</td>\n",
       "      <td>3.467203</td>\n",
       "    </tr>\n",
       "    <tr>\n",
       "      <th>3</th>\n",
       "      <td>Algérie</td>\n",
       "      <td>3.140917</td>\n",
       "    </tr>\n",
       "    <tr>\n",
       "      <th>4</th>\n",
       "      <td>Allemagne</td>\n",
       "      <td>0.000000</td>\n",
       "    </tr>\n",
       "  </tbody>\n",
       "</table>\n",
       "</div>"
      ],
      "text/plain": [
       "             Zone  Proportion_sous_nutrition\n",
       "0     Afghanistan                  28.928718\n",
       "1  Afrique du Sud                   5.437666\n",
       "2         Albanie                   3.467203\n",
       "3         Algérie                   3.140917\n",
       "4       Allemagne                   0.000000"
      ]
     },
     "execution_count": 33,
     "metadata": {},
     "output_type": "execute_result"
    }
   ],
   "source": [
    "#Calcul et affichage du nombre de personnes en état de sous nutrition\n",
    "data_2017['Proportion_sous_nutrition'] = (data_2017['sous_nutrition'] / data_2017['Population']) * 100\n",
    "data_2017[['Zone', 'Proportion_sous_nutrition']].head()"
   ]
  },
  {
   "cell_type": "code",
   "execution_count": 34,
   "id": "a15f6046",
   "metadata": {},
   "outputs": [
    {
     "name": "stdout",
     "output_type": "stream",
     "text": [
      "7.1011968332354165\n"
     ]
    }
   ],
   "source": [
    "# Calcul de la proportion totale dans le monde\n",
    "proportion_totale_monde = (data_2017['sous_nutrition'].sum() / data_2017['Population'].sum()) * 100\n",
    "\n",
    "# Affichage de la proportion totale dans le monde\n",
    "print(proportion_totale_monde)"
   ]
  },
  {
   "cell_type": "code",
   "execution_count": 35,
   "id": "421c44bd",
   "metadata": {},
   "outputs": [
    {
     "name": "stdout",
     "output_type": "stream",
     "text": [
      "535700000.0\n"
     ]
    }
   ],
   "source": [
    "# Calcul du nombre de personnes en état de sous-nutrition dans le monde\n",
    "nombre_personnes_sous_nutrition_monde = (data_2017['sous_nutrition'].sum())\n",
    "\n",
    "# Affichage du nombre de personnes en état de sous-nutrition dans le monde\n",
    "print(nombre_personnes_sous_nutrition_monde)\n"
   ]
  },
  {
   "cell_type": "markdown",
   "id": "b4134a24",
   "metadata": {},
   "source": [
    "<div style=\"border: 1px solid RGB(0,150,250);\" >\n",
    "<h3 style=\"margin: auto; padding: 20px; color: RGB(0,150,250); \">3.2 - Nombre théorique de personne qui pourrait être nourries en 2017</h3>\n",
    "</div>"
   ]
  },
  {
   "cell_type": "code",
   "execution_count": 36,
   "id": "2b63df85",
   "metadata": {},
   "outputs": [],
   "source": [
    "#Combien mange en moyenne un être humain ? Source => Source => https://applications.emro.who.int/dsaf/emropub_2011_1274.pdf?ua=1\n",
    "\n",
    "# 2000kcal/jour"
   ]
  },
  {
   "cell_type": "code",
   "execution_count": 37,
   "id": "5e3f262d",
   "metadata": {},
   "outputs": [],
   "source": [
    "#On commence par faire une jointure entre le data frame population et Dispo_alimentaire afin d'ajouter dans ce dernier la population\n",
    "dispo_alimentaire = pd.merge(dispo_alimentaire, population[population['Année'] == 2017], on='Zone')"
   ]
  },
  {
   "cell_type": "code",
   "execution_count": 38,
   "id": "4538126c",
   "metadata": {},
   "outputs": [
    {
     "data": {
      "text/html": [
       "<div>\n",
       "<style scoped>\n",
       "    .dataframe tbody tr th:only-of-type {\n",
       "        vertical-align: middle;\n",
       "    }\n",
       "\n",
       "    .dataframe tbody tr th {\n",
       "        vertical-align: top;\n",
       "    }\n",
       "\n",
       "    .dataframe thead th {\n",
       "        text-align: right;\n",
       "    }\n",
       "</style>\n",
       "<table border=\"1\" class=\"dataframe\">\n",
       "  <thead>\n",
       "    <tr style=\"text-align: right;\">\n",
       "      <th></th>\n",
       "      <th>Zone</th>\n",
       "      <th>Produit</th>\n",
       "      <th>Origine</th>\n",
       "      <th>Aliments pour animaux</th>\n",
       "      <th>Autres Utilisations</th>\n",
       "      <th>Disponibilité alimentaire (Kcal/personne/jour)</th>\n",
       "      <th>Disponibilité alimentaire en quantité (kg/personne/an)</th>\n",
       "      <th>Disponibilité de matière grasse en quantité (g/personne/jour)</th>\n",
       "      <th>Disponibilité de protéines en quantité (g/personne/jour)</th>\n",
       "      <th>Disponibilité intérieure</th>\n",
       "      <th>Exportations - Quantité</th>\n",
       "      <th>Importations - Quantité</th>\n",
       "      <th>Nourriture</th>\n",
       "      <th>Pertes</th>\n",
       "      <th>Production</th>\n",
       "      <th>Semences</th>\n",
       "      <th>Traitement</th>\n",
       "      <th>Variation de stock</th>\n",
       "      <th>Année</th>\n",
       "      <th>Population</th>\n",
       "    </tr>\n",
       "  </thead>\n",
       "  <tbody>\n",
       "    <tr>\n",
       "      <th>0</th>\n",
       "      <td>Afghanistan</td>\n",
       "      <td>Abats Comestible</td>\n",
       "      <td>animale</td>\n",
       "      <td>0.0</td>\n",
       "      <td>0.0</td>\n",
       "      <td>5.0</td>\n",
       "      <td>1.72</td>\n",
       "      <td>0.20</td>\n",
       "      <td>0.77</td>\n",
       "      <td>53000.0</td>\n",
       "      <td>0.0</td>\n",
       "      <td>0.0</td>\n",
       "      <td>53000.0</td>\n",
       "      <td>0.0</td>\n",
       "      <td>53000.0</td>\n",
       "      <td>0.0</td>\n",
       "      <td>0.0</td>\n",
       "      <td>0.0</td>\n",
       "      <td>2017</td>\n",
       "      <td>36296113.0</td>\n",
       "    </tr>\n",
       "    <tr>\n",
       "      <th>1</th>\n",
       "      <td>Afghanistan</td>\n",
       "      <td>Agrumes, Autres</td>\n",
       "      <td>vegetale</td>\n",
       "      <td>0.0</td>\n",
       "      <td>0.0</td>\n",
       "      <td>1.0</td>\n",
       "      <td>1.29</td>\n",
       "      <td>0.01</td>\n",
       "      <td>0.02</td>\n",
       "      <td>41000.0</td>\n",
       "      <td>2000.0</td>\n",
       "      <td>40000.0</td>\n",
       "      <td>39000.0</td>\n",
       "      <td>2000.0</td>\n",
       "      <td>3000.0</td>\n",
       "      <td>0.0</td>\n",
       "      <td>0.0</td>\n",
       "      <td>0.0</td>\n",
       "      <td>2017</td>\n",
       "      <td>36296113.0</td>\n",
       "    </tr>\n",
       "    <tr>\n",
       "      <th>2</th>\n",
       "      <td>Afghanistan</td>\n",
       "      <td>Aliments pour enfants</td>\n",
       "      <td>vegetale</td>\n",
       "      <td>0.0</td>\n",
       "      <td>0.0</td>\n",
       "      <td>1.0</td>\n",
       "      <td>0.06</td>\n",
       "      <td>0.01</td>\n",
       "      <td>0.03</td>\n",
       "      <td>2000.0</td>\n",
       "      <td>0.0</td>\n",
       "      <td>2000.0</td>\n",
       "      <td>2000.0</td>\n",
       "      <td>0.0</td>\n",
       "      <td>0.0</td>\n",
       "      <td>0.0</td>\n",
       "      <td>0.0</td>\n",
       "      <td>0.0</td>\n",
       "      <td>2017</td>\n",
       "      <td>36296113.0</td>\n",
       "    </tr>\n",
       "    <tr>\n",
       "      <th>3</th>\n",
       "      <td>Afghanistan</td>\n",
       "      <td>Ananas</td>\n",
       "      <td>vegetale</td>\n",
       "      <td>0.0</td>\n",
       "      <td>0.0</td>\n",
       "      <td>0.0</td>\n",
       "      <td>0.00</td>\n",
       "      <td>0.00</td>\n",
       "      <td>0.00</td>\n",
       "      <td>0.0</td>\n",
       "      <td>0.0</td>\n",
       "      <td>0.0</td>\n",
       "      <td>0.0</td>\n",
       "      <td>0.0</td>\n",
       "      <td>0.0</td>\n",
       "      <td>0.0</td>\n",
       "      <td>0.0</td>\n",
       "      <td>0.0</td>\n",
       "      <td>2017</td>\n",
       "      <td>36296113.0</td>\n",
       "    </tr>\n",
       "    <tr>\n",
       "      <th>4</th>\n",
       "      <td>Afghanistan</td>\n",
       "      <td>Bananes</td>\n",
       "      <td>vegetale</td>\n",
       "      <td>0.0</td>\n",
       "      <td>0.0</td>\n",
       "      <td>4.0</td>\n",
       "      <td>2.70</td>\n",
       "      <td>0.02</td>\n",
       "      <td>0.05</td>\n",
       "      <td>82000.0</td>\n",
       "      <td>0.0</td>\n",
       "      <td>82000.0</td>\n",
       "      <td>82000.0</td>\n",
       "      <td>0.0</td>\n",
       "      <td>0.0</td>\n",
       "      <td>0.0</td>\n",
       "      <td>0.0</td>\n",
       "      <td>0.0</td>\n",
       "      <td>2017</td>\n",
       "      <td>36296113.0</td>\n",
       "    </tr>\n",
       "  </tbody>\n",
       "</table>\n",
       "</div>"
      ],
      "text/plain": [
       "          Zone                Produit   Origine  Aliments pour animaux  \\\n",
       "0  Afghanistan       Abats Comestible   animale                    0.0   \n",
       "1  Afghanistan        Agrumes, Autres  vegetale                    0.0   \n",
       "2  Afghanistan  Aliments pour enfants  vegetale                    0.0   \n",
       "3  Afghanistan                 Ananas  vegetale                    0.0   \n",
       "4  Afghanistan                Bananes  vegetale                    0.0   \n",
       "\n",
       "   Autres Utilisations  Disponibilité alimentaire (Kcal/personne/jour)  \\\n",
       "0                  0.0                                             5.0   \n",
       "1                  0.0                                             1.0   \n",
       "2                  0.0                                             1.0   \n",
       "3                  0.0                                             0.0   \n",
       "4                  0.0                                             4.0   \n",
       "\n",
       "   Disponibilité alimentaire en quantité (kg/personne/an)  \\\n",
       "0                                               1.72        \n",
       "1                                               1.29        \n",
       "2                                               0.06        \n",
       "3                                               0.00        \n",
       "4                                               2.70        \n",
       "\n",
       "   Disponibilité de matière grasse en quantité (g/personne/jour)  \\\n",
       "0                                               0.20               \n",
       "1                                               0.01               \n",
       "2                                               0.01               \n",
       "3                                               0.00               \n",
       "4                                               0.02               \n",
       "\n",
       "   Disponibilité de protéines en quantité (g/personne/jour)  \\\n",
       "0                                               0.77          \n",
       "1                                               0.02          \n",
       "2                                               0.03          \n",
       "3                                               0.00          \n",
       "4                                               0.05          \n",
       "\n",
       "   Disponibilité intérieure  Exportations - Quantité  Importations - Quantité  \\\n",
       "0                   53000.0                      0.0                      0.0   \n",
       "1                   41000.0                   2000.0                  40000.0   \n",
       "2                    2000.0                      0.0                   2000.0   \n",
       "3                       0.0                      0.0                      0.0   \n",
       "4                   82000.0                      0.0                  82000.0   \n",
       "\n",
       "   Nourriture  Pertes  Production  Semences  Traitement  Variation de stock  \\\n",
       "0     53000.0     0.0     53000.0       0.0         0.0                 0.0   \n",
       "1     39000.0  2000.0      3000.0       0.0         0.0                 0.0   \n",
       "2      2000.0     0.0         0.0       0.0         0.0                 0.0   \n",
       "3         0.0     0.0         0.0       0.0         0.0                 0.0   \n",
       "4     82000.0     0.0         0.0       0.0         0.0                 0.0   \n",
       "\n",
       "   Année  Population  \n",
       "0   2017  36296113.0  \n",
       "1   2017  36296113.0  \n",
       "2   2017  36296113.0  \n",
       "3   2017  36296113.0  \n",
       "4   2017  36296113.0  "
      ]
     },
     "execution_count": 38,
     "metadata": {},
     "output_type": "execute_result"
    }
   ],
   "source": [
    "#Affichage du nouveau dataframe\n",
    "dispo_alimentaire.head()"
   ]
  },
  {
   "cell_type": "code",
   "execution_count": 39,
   "id": "5305ba25",
   "metadata": {},
   "outputs": [
    {
     "name": "stdout",
     "output_type": "stream",
     "text": [
      "20918984627331.0 kcal\n"
     ]
    }
   ],
   "source": [
    "#Création de la colonne dispo_kcal avec calcul des kcal disponibles mondialement (la somme de toutes les calories provenant de toutes les sources alimentaires)\n",
    "dispo_alimentaire['dispo_kcal'] = dispo_alimentaire['Disponibilité alimentaire (Kcal/personne/jour)'] * dispo_alimentaire['Population'] \n",
    "print(dispo_alimentaire['dispo_kcal'].sum(), \"kcal\")"
   ]
  },
  {
   "cell_type": "code",
   "execution_count": 40,
   "id": "a6d4af90",
   "metadata": {},
   "outputs": [
    {
     "name": "stdout",
     "output_type": "stream",
     "text": [
      "10459492313.6655\n"
     ]
    }
   ],
   "source": [
    "#Calcul du nombre d'humains pouvant être nourris\n",
    "# Supposons que la consommation moyenne d'un être humain soit de 2000 kilocalories par jour comme explicité par l'OMS\n",
    "consommation_moyenne = 2000\n",
    "\n",
    "# Calcul du nombre total de personnes que la disponibilité alimentaire mondiale peut nourrir\n",
    "nombre_personnes_monde = dispo_alimentaire['dispo_kcal'].sum() / consommation_moyenne\n",
    "\n",
    "print(nombre_personnes_monde)"
   ]
  },
  {
   "cell_type": "markdown",
   "id": "e97c8886",
   "metadata": {},
   "source": [
    "<div style=\"border: 1px solid RGB(0,150,250);\" >\n",
    "<h3 style=\"margin: auto; padding: 20px; color: RGB(0,150,250); \">3.3 - Nombre théorique de personne qui pourrait être nourrie avec les produits végétaux en 2017</h3>\n",
    "</div>"
   ]
  },
  {
   "cell_type": "code",
   "execution_count": 41,
   "id": "c2e3c87c",
   "metadata": {},
   "outputs": [
    {
     "data": {
      "text/html": [
       "<div>\n",
       "<style scoped>\n",
       "    .dataframe tbody tr th:only-of-type {\n",
       "        vertical-align: middle;\n",
       "    }\n",
       "\n",
       "    .dataframe tbody tr th {\n",
       "        vertical-align: top;\n",
       "    }\n",
       "\n",
       "    .dataframe thead th {\n",
       "        text-align: right;\n",
       "    }\n",
       "</style>\n",
       "<table border=\"1\" class=\"dataframe\">\n",
       "  <thead>\n",
       "    <tr style=\"text-align: right;\">\n",
       "      <th></th>\n",
       "      <th>Zone</th>\n",
       "      <th>Produit</th>\n",
       "      <th>Origine</th>\n",
       "      <th>Aliments pour animaux</th>\n",
       "      <th>Autres Utilisations</th>\n",
       "      <th>Disponibilité alimentaire (Kcal/personne/jour)</th>\n",
       "      <th>Disponibilité alimentaire en quantité (kg/personne/an)</th>\n",
       "      <th>Disponibilité de matière grasse en quantité (g/personne/jour)</th>\n",
       "      <th>Disponibilité de protéines en quantité (g/personne/jour)</th>\n",
       "      <th>Disponibilité intérieure</th>\n",
       "      <th>...</th>\n",
       "      <th>Importations - Quantité</th>\n",
       "      <th>Nourriture</th>\n",
       "      <th>Pertes</th>\n",
       "      <th>Production</th>\n",
       "      <th>Semences</th>\n",
       "      <th>Traitement</th>\n",
       "      <th>Variation de stock</th>\n",
       "      <th>Année</th>\n",
       "      <th>Population</th>\n",
       "      <th>dispo_kcal</th>\n",
       "    </tr>\n",
       "  </thead>\n",
       "  <tbody>\n",
       "    <tr>\n",
       "      <th>1</th>\n",
       "      <td>Afghanistan</td>\n",
       "      <td>Agrumes, Autres</td>\n",
       "      <td>vegetale</td>\n",
       "      <td>0.0</td>\n",
       "      <td>0.0</td>\n",
       "      <td>1.0</td>\n",
       "      <td>1.29</td>\n",
       "      <td>0.01</td>\n",
       "      <td>0.02</td>\n",
       "      <td>41000.0</td>\n",
       "      <td>...</td>\n",
       "      <td>40000.0</td>\n",
       "      <td>39000.0</td>\n",
       "      <td>2000.0</td>\n",
       "      <td>3000.0</td>\n",
       "      <td>0.0</td>\n",
       "      <td>0.0</td>\n",
       "      <td>0.0</td>\n",
       "      <td>2017</td>\n",
       "      <td>36296113.0</td>\n",
       "      <td>36296113.0</td>\n",
       "    </tr>\n",
       "    <tr>\n",
       "      <th>2</th>\n",
       "      <td>Afghanistan</td>\n",
       "      <td>Aliments pour enfants</td>\n",
       "      <td>vegetale</td>\n",
       "      <td>0.0</td>\n",
       "      <td>0.0</td>\n",
       "      <td>1.0</td>\n",
       "      <td>0.06</td>\n",
       "      <td>0.01</td>\n",
       "      <td>0.03</td>\n",
       "      <td>2000.0</td>\n",
       "      <td>...</td>\n",
       "      <td>2000.0</td>\n",
       "      <td>2000.0</td>\n",
       "      <td>0.0</td>\n",
       "      <td>0.0</td>\n",
       "      <td>0.0</td>\n",
       "      <td>0.0</td>\n",
       "      <td>0.0</td>\n",
       "      <td>2017</td>\n",
       "      <td>36296113.0</td>\n",
       "      <td>36296113.0</td>\n",
       "    </tr>\n",
       "    <tr>\n",
       "      <th>3</th>\n",
       "      <td>Afghanistan</td>\n",
       "      <td>Ananas</td>\n",
       "      <td>vegetale</td>\n",
       "      <td>0.0</td>\n",
       "      <td>0.0</td>\n",
       "      <td>0.0</td>\n",
       "      <td>0.00</td>\n",
       "      <td>0.00</td>\n",
       "      <td>0.00</td>\n",
       "      <td>0.0</td>\n",
       "      <td>...</td>\n",
       "      <td>0.0</td>\n",
       "      <td>0.0</td>\n",
       "      <td>0.0</td>\n",
       "      <td>0.0</td>\n",
       "      <td>0.0</td>\n",
       "      <td>0.0</td>\n",
       "      <td>0.0</td>\n",
       "      <td>2017</td>\n",
       "      <td>36296113.0</td>\n",
       "      <td>0.0</td>\n",
       "    </tr>\n",
       "    <tr>\n",
       "      <th>4</th>\n",
       "      <td>Afghanistan</td>\n",
       "      <td>Bananes</td>\n",
       "      <td>vegetale</td>\n",
       "      <td>0.0</td>\n",
       "      <td>0.0</td>\n",
       "      <td>4.0</td>\n",
       "      <td>2.70</td>\n",
       "      <td>0.02</td>\n",
       "      <td>0.05</td>\n",
       "      <td>82000.0</td>\n",
       "      <td>...</td>\n",
       "      <td>82000.0</td>\n",
       "      <td>82000.0</td>\n",
       "      <td>0.0</td>\n",
       "      <td>0.0</td>\n",
       "      <td>0.0</td>\n",
       "      <td>0.0</td>\n",
       "      <td>0.0</td>\n",
       "      <td>2017</td>\n",
       "      <td>36296113.0</td>\n",
       "      <td>145184452.0</td>\n",
       "    </tr>\n",
       "    <tr>\n",
       "      <th>6</th>\n",
       "      <td>Afghanistan</td>\n",
       "      <td>Bière</td>\n",
       "      <td>vegetale</td>\n",
       "      <td>0.0</td>\n",
       "      <td>0.0</td>\n",
       "      <td>0.0</td>\n",
       "      <td>0.09</td>\n",
       "      <td>0.00</td>\n",
       "      <td>0.00</td>\n",
       "      <td>3000.0</td>\n",
       "      <td>...</td>\n",
       "      <td>3000.0</td>\n",
       "      <td>3000.0</td>\n",
       "      <td>0.0</td>\n",
       "      <td>0.0</td>\n",
       "      <td>0.0</td>\n",
       "      <td>0.0</td>\n",
       "      <td>0.0</td>\n",
       "      <td>2017</td>\n",
       "      <td>36296113.0</td>\n",
       "      <td>0.0</td>\n",
       "    </tr>\n",
       "  </tbody>\n",
       "</table>\n",
       "<p>5 rows × 21 columns</p>\n",
       "</div>"
      ],
      "text/plain": [
       "          Zone                Produit   Origine  Aliments pour animaux  \\\n",
       "1  Afghanistan        Agrumes, Autres  vegetale                    0.0   \n",
       "2  Afghanistan  Aliments pour enfants  vegetale                    0.0   \n",
       "3  Afghanistan                 Ananas  vegetale                    0.0   \n",
       "4  Afghanistan                Bananes  vegetale                    0.0   \n",
       "6  Afghanistan                  Bière  vegetale                    0.0   \n",
       "\n",
       "   Autres Utilisations  Disponibilité alimentaire (Kcal/personne/jour)  \\\n",
       "1                  0.0                                             1.0   \n",
       "2                  0.0                                             1.0   \n",
       "3                  0.0                                             0.0   \n",
       "4                  0.0                                             4.0   \n",
       "6                  0.0                                             0.0   \n",
       "\n",
       "   Disponibilité alimentaire en quantité (kg/personne/an)  \\\n",
       "1                                               1.29        \n",
       "2                                               0.06        \n",
       "3                                               0.00        \n",
       "4                                               2.70        \n",
       "6                                               0.09        \n",
       "\n",
       "   Disponibilité de matière grasse en quantité (g/personne/jour)  \\\n",
       "1                                               0.01               \n",
       "2                                               0.01               \n",
       "3                                               0.00               \n",
       "4                                               0.02               \n",
       "6                                               0.00               \n",
       "\n",
       "   Disponibilité de protéines en quantité (g/personne/jour)  \\\n",
       "1                                               0.02          \n",
       "2                                               0.03          \n",
       "3                                               0.00          \n",
       "4                                               0.05          \n",
       "6                                               0.00          \n",
       "\n",
       "   Disponibilité intérieure  ...  Importations - Quantité  Nourriture  Pertes  \\\n",
       "1                   41000.0  ...                  40000.0     39000.0  2000.0   \n",
       "2                    2000.0  ...                   2000.0      2000.0     0.0   \n",
       "3                       0.0  ...                      0.0         0.0     0.0   \n",
       "4                   82000.0  ...                  82000.0     82000.0     0.0   \n",
       "6                    3000.0  ...                   3000.0      3000.0     0.0   \n",
       "\n",
       "   Production  Semences  Traitement  Variation de stock  Année  Population  \\\n",
       "1      3000.0       0.0         0.0                 0.0   2017  36296113.0   \n",
       "2         0.0       0.0         0.0                 0.0   2017  36296113.0   \n",
       "3         0.0       0.0         0.0                 0.0   2017  36296113.0   \n",
       "4         0.0       0.0         0.0                 0.0   2017  36296113.0   \n",
       "6         0.0       0.0         0.0                 0.0   2017  36296113.0   \n",
       "\n",
       "    dispo_kcal  \n",
       "1   36296113.0  \n",
       "2   36296113.0  \n",
       "3          0.0  \n",
       "4  145184452.0  \n",
       "6          0.0  \n",
       "\n",
       "[5 rows x 21 columns]"
      ]
     },
     "execution_count": 41,
     "metadata": {},
     "output_type": "execute_result"
    }
   ],
   "source": [
    "#Transfert des données avec les végétaux dans un nouveau dataframe\n",
    "produits_vegetaux = dispo_alimentaire[(dispo_alimentaire['Origine'] == 'vegetale') & (dispo_alimentaire['Année'] == 2017)]\n",
    "produits_vegetaux.head()"
   ]
  },
  {
   "cell_type": "code",
   "execution_count": 42,
   "id": "534f3ad7",
   "metadata": {},
   "outputs": [],
   "source": [
    "#Calcul du nombre de kcal disponible pour les végétaux\n",
    "kcal_disponibles_vegetaux = produits_vegetaux['dispo_kcal'].sum()"
   ]
  },
  {
   "cell_type": "code",
   "execution_count": 43,
   "id": "8c82da41",
   "metadata": {},
   "outputs": [
    {
     "name": "stdout",
     "output_type": "stream",
     "text": [
      "8630382105.7505\n"
     ]
    }
   ],
   "source": [
    "#Calcul du nombre d'humains pouvant être nourris avec les végétaux\n",
    "personnes_nourries_vegetaux = kcal_disponibles_vegetaux / 2000\n",
    "print(personnes_nourries_vegetaux)"
   ]
  },
  {
   "cell_type": "markdown",
   "id": "cd07afb1",
   "metadata": {},
   "source": [
    "<div style=\"border: 1px solid RGB(0,150,250);\" >\n",
    "<h3 style=\"margin: auto; padding: 20px; color: RGB(0,150,250); \">3.4 - Utilisation de la disponibilité intérieure</h3>\n",
    "</div>"
   ]
  },
  {
   "cell_type": "code",
   "execution_count": 44,
   "id": "71328746",
   "metadata": {},
   "outputs": [],
   "source": [
    "# Calcul de la disponibilité totale\n",
    "disponibilite_interieure = dispo_alimentaire['Production'] + dispo_alimentaire['Importations - Quantité'] - dispo_alimentaire['Exportations - Quantité'] + dispo_alimentaire['Variation de stock']"
   ]
  },
  {
   "cell_type": "code",
   "execution_count": 45,
   "id": "03248095",
   "metadata": {},
   "outputs": [
    {
     "name": "stdout",
     "output_type": "stream",
     "text": [
      "Aliments pour animaux 1288003507.2882135\n",
      "Pertes 452283651.878134\n",
      "Semences 153320296.9888885\n",
      "Traitement 2185644967.2998157\n",
      "Autres Utilisations 858783520.218782\n",
      "Disponibilité totale mondiale: 9734105000.0\n"
     ]
    }
   ],
   "source": [
    "# Liste des colonnes d'intérêt\n",
    "colonnes_interet = ['Aliments pour animaux', 'Pertes', 'Semences', 'Traitement', 'Autres Utilisations']\n",
    "\n",
    "# Boucle for pour calculer la disponibilité pour chaque catégorie en fonction de la disponibilité intérieure\n",
    "for colonne in colonnes_interet:\n",
    "    disponibilite_colonne = disponibilite_interieure * (dispo_alimentaire[colonne] / dispo_alimentaire['Disponibilité intérieure'])\n",
    "    resultat_colonne = disponibilite_colonne.sum()\n",
    "    print(colonne, resultat_colonne)\n",
    "\n",
    "# Calcul de la disponibilité totale mondiale\n",
    "disponibilite_totale_monde = disponibilite_interieure.sum()\n",
    "print(\"Disponibilité totale mondiale:\",disponibilite_totale_monde)\n"
   ]
  },
  {
   "cell_type": "markdown",
   "id": "141d05df",
   "metadata": {},
   "source": [
    "<div style=\"border: 1px solid RGB(0,150,250);\" >\n",
    "<h3 style=\"margin: auto; padding: 20px; color: RGB(0,150,250); \">3.5 - Utilisation des céréales</h3>\n",
    "</div>"
   ]
  },
  {
   "cell_type": "code",
   "execution_count": 46,
   "id": "c27448ff",
   "metadata": {},
   "outputs": [],
   "source": [
    "#Création d'une liste avec toutes les variables\n",
    "cereales = ['Blé', 'Riz (Eq Blanchi)', 'Orge', 'Maïs', 'Seigle', 'Avoine', 'Millet', 'Sorgho', 'Céréales, Autres']"
   ]
  },
  {
   "cell_type": "code",
   "execution_count": 47,
   "id": "5dc5586d",
   "metadata": {},
   "outputs": [
    {
     "data": {
      "text/html": [
       "<div>\n",
       "<style scoped>\n",
       "    .dataframe tbody tr th:only-of-type {\n",
       "        vertical-align: middle;\n",
       "    }\n",
       "\n",
       "    .dataframe tbody tr th {\n",
       "        vertical-align: top;\n",
       "    }\n",
       "\n",
       "    .dataframe thead th {\n",
       "        text-align: right;\n",
       "    }\n",
       "</style>\n",
       "<table border=\"1\" class=\"dataframe\">\n",
       "  <thead>\n",
       "    <tr style=\"text-align: right;\">\n",
       "      <th></th>\n",
       "      <th>Zone</th>\n",
       "      <th>Produit</th>\n",
       "      <th>Origine</th>\n",
       "      <th>Aliments pour animaux</th>\n",
       "      <th>Autres Utilisations</th>\n",
       "      <th>Disponibilité alimentaire (Kcal/personne/jour)</th>\n",
       "      <th>Disponibilité alimentaire en quantité (kg/personne/an)</th>\n",
       "      <th>Disponibilité de matière grasse en quantité (g/personne/jour)</th>\n",
       "      <th>Disponibilité de protéines en quantité (g/personne/jour)</th>\n",
       "      <th>Disponibilité intérieure</th>\n",
       "      <th>...</th>\n",
       "      <th>Importations - Quantité</th>\n",
       "      <th>Nourriture</th>\n",
       "      <th>Pertes</th>\n",
       "      <th>Production</th>\n",
       "      <th>Semences</th>\n",
       "      <th>Traitement</th>\n",
       "      <th>Variation de stock</th>\n",
       "      <th>Année</th>\n",
       "      <th>Population</th>\n",
       "      <th>dispo_kcal</th>\n",
       "    </tr>\n",
       "  </thead>\n",
       "  <tbody>\n",
       "    <tr>\n",
       "      <th>7</th>\n",
       "      <td>Afghanistan</td>\n",
       "      <td>Blé</td>\n",
       "      <td>vegetale</td>\n",
       "      <td>0.0</td>\n",
       "      <td>0.0</td>\n",
       "      <td>1369.0</td>\n",
       "      <td>160.23</td>\n",
       "      <td>4.69</td>\n",
       "      <td>36.91</td>\n",
       "      <td>5992000.0</td>\n",
       "      <td>...</td>\n",
       "      <td>1173000.0</td>\n",
       "      <td>4895000.0</td>\n",
       "      <td>775000.0</td>\n",
       "      <td>5169000.0</td>\n",
       "      <td>322000.0</td>\n",
       "      <td>0.0</td>\n",
       "      <td>-350000.0</td>\n",
       "      <td>2017</td>\n",
       "      <td>36296113.0</td>\n",
       "      <td>4.968938e+10</td>\n",
       "    </tr>\n",
       "    <tr>\n",
       "      <th>12</th>\n",
       "      <td>Afghanistan</td>\n",
       "      <td>Céréales, Autres</td>\n",
       "      <td>vegetale</td>\n",
       "      <td>0.0</td>\n",
       "      <td>0.0</td>\n",
       "      <td>0.0</td>\n",
       "      <td>0.00</td>\n",
       "      <td>0.00</td>\n",
       "      <td>0.00</td>\n",
       "      <td>0.0</td>\n",
       "      <td>...</td>\n",
       "      <td>0.0</td>\n",
       "      <td>0.0</td>\n",
       "      <td>0.0</td>\n",
       "      <td>0.0</td>\n",
       "      <td>0.0</td>\n",
       "      <td>0.0</td>\n",
       "      <td>0.0</td>\n",
       "      <td>2017</td>\n",
       "      <td>36296113.0</td>\n",
       "      <td>0.000000e+00</td>\n",
       "    </tr>\n",
       "    <tr>\n",
       "      <th>32</th>\n",
       "      <td>Afghanistan</td>\n",
       "      <td>Maïs</td>\n",
       "      <td>vegetale</td>\n",
       "      <td>200000.0</td>\n",
       "      <td>0.0</td>\n",
       "      <td>21.0</td>\n",
       "      <td>2.50</td>\n",
       "      <td>0.30</td>\n",
       "      <td>0.56</td>\n",
       "      <td>313000.0</td>\n",
       "      <td>...</td>\n",
       "      <td>1000.0</td>\n",
       "      <td>76000.0</td>\n",
       "      <td>31000.0</td>\n",
       "      <td>312000.0</td>\n",
       "      <td>5000.0</td>\n",
       "      <td>0.0</td>\n",
       "      <td>0.0</td>\n",
       "      <td>2017</td>\n",
       "      <td>36296113.0</td>\n",
       "      <td>7.622184e+08</td>\n",
       "    </tr>\n",
       "    <tr>\n",
       "      <th>34</th>\n",
       "      <td>Afghanistan</td>\n",
       "      <td>Millet</td>\n",
       "      <td>vegetale</td>\n",
       "      <td>0.0</td>\n",
       "      <td>0.0</td>\n",
       "      <td>3.0</td>\n",
       "      <td>0.40</td>\n",
       "      <td>0.02</td>\n",
       "      <td>0.08</td>\n",
       "      <td>13000.0</td>\n",
       "      <td>...</td>\n",
       "      <td>0.0</td>\n",
       "      <td>12000.0</td>\n",
       "      <td>1000.0</td>\n",
       "      <td>13000.0</td>\n",
       "      <td>0.0</td>\n",
       "      <td>0.0</td>\n",
       "      <td>0.0</td>\n",
       "      <td>2017</td>\n",
       "      <td>36296113.0</td>\n",
       "      <td>1.088883e+08</td>\n",
       "    </tr>\n",
       "    <tr>\n",
       "      <th>40</th>\n",
       "      <td>Afghanistan</td>\n",
       "      <td>Orge</td>\n",
       "      <td>vegetale</td>\n",
       "      <td>360000.0</td>\n",
       "      <td>0.0</td>\n",
       "      <td>26.0</td>\n",
       "      <td>2.92</td>\n",
       "      <td>0.24</td>\n",
       "      <td>0.79</td>\n",
       "      <td>524000.0</td>\n",
       "      <td>...</td>\n",
       "      <td>10000.0</td>\n",
       "      <td>89000.0</td>\n",
       "      <td>52000.0</td>\n",
       "      <td>514000.0</td>\n",
       "      <td>22000.0</td>\n",
       "      <td>0.0</td>\n",
       "      <td>0.0</td>\n",
       "      <td>2017</td>\n",
       "      <td>36296113.0</td>\n",
       "      <td>9.436989e+08</td>\n",
       "    </tr>\n",
       "  </tbody>\n",
       "</table>\n",
       "<p>5 rows × 21 columns</p>\n",
       "</div>"
      ],
      "text/plain": [
       "           Zone           Produit   Origine  Aliments pour animaux  \\\n",
       "7   Afghanistan               Blé  vegetale                    0.0   \n",
       "12  Afghanistan  Céréales, Autres  vegetale                    0.0   \n",
       "32  Afghanistan              Maïs  vegetale               200000.0   \n",
       "34  Afghanistan            Millet  vegetale                    0.0   \n",
       "40  Afghanistan              Orge  vegetale               360000.0   \n",
       "\n",
       "    Autres Utilisations  Disponibilité alimentaire (Kcal/personne/jour)  \\\n",
       "7                   0.0                                          1369.0   \n",
       "12                  0.0                                             0.0   \n",
       "32                  0.0                                            21.0   \n",
       "34                  0.0                                             3.0   \n",
       "40                  0.0                                            26.0   \n",
       "\n",
       "    Disponibilité alimentaire en quantité (kg/personne/an)  \\\n",
       "7                                              160.23        \n",
       "12                                               0.00        \n",
       "32                                               2.50        \n",
       "34                                               0.40        \n",
       "40                                               2.92        \n",
       "\n",
       "    Disponibilité de matière grasse en quantité (g/personne/jour)  \\\n",
       "7                                                4.69               \n",
       "12                                               0.00               \n",
       "32                                               0.30               \n",
       "34                                               0.02               \n",
       "40                                               0.24               \n",
       "\n",
       "    Disponibilité de protéines en quantité (g/personne/jour)  \\\n",
       "7                                               36.91          \n",
       "12                                               0.00          \n",
       "32                                               0.56          \n",
       "34                                               0.08          \n",
       "40                                               0.79          \n",
       "\n",
       "    Disponibilité intérieure  ...  Importations - Quantité  Nourriture  \\\n",
       "7                  5992000.0  ...                1173000.0   4895000.0   \n",
       "12                       0.0  ...                      0.0         0.0   \n",
       "32                  313000.0  ...                   1000.0     76000.0   \n",
       "34                   13000.0  ...                      0.0     12000.0   \n",
       "40                  524000.0  ...                  10000.0     89000.0   \n",
       "\n",
       "      Pertes  Production  Semences  Traitement  Variation de stock  Année  \\\n",
       "7   775000.0   5169000.0  322000.0         0.0           -350000.0   2017   \n",
       "12       0.0         0.0       0.0         0.0                 0.0   2017   \n",
       "32   31000.0    312000.0    5000.0         0.0                 0.0   2017   \n",
       "34    1000.0     13000.0       0.0         0.0                 0.0   2017   \n",
       "40   52000.0    514000.0   22000.0         0.0                 0.0   2017   \n",
       "\n",
       "    Population    dispo_kcal  \n",
       "7   36296113.0  4.968938e+10  \n",
       "12  36296113.0  0.000000e+00  \n",
       "32  36296113.0  7.622184e+08  \n",
       "34  36296113.0  1.088883e+08  \n",
       "40  36296113.0  9.436989e+08  \n",
       "\n",
       "[5 rows x 21 columns]"
      ]
     },
     "execution_count": 47,
     "metadata": {},
     "output_type": "execute_result"
    }
   ],
   "source": [
    "#Création d'un dataframe avec les informations uniquement pour ces céréales\n",
    "cereales_df = dispo_alimentaire[dispo_alimentaire['Produit'].isin(cereales)]\n",
    "cereales_df.head()"
   ]
  },
  {
   "cell_type": "code",
   "execution_count": 48,
   "id": "8365de95",
   "metadata": {},
   "outputs": [
    {
     "name": "stdout",
     "output_type": "stream",
     "text": [
      "42.90600583340446\n"
     ]
    }
   ],
   "source": [
    "#Affichage de la proportion d'alimentation humaine\n",
    "proportion_humaine = cereales_df['Nourriture'].sum() / cereales_df['Disponibilité intérieure'].sum()*100\n",
    "print(proportion_humaine)"
   ]
  },
  {
   "cell_type": "code",
   "execution_count": 49,
   "id": "6f5e93c7",
   "metadata": {},
   "outputs": [
    {
     "name": "stdout",
     "output_type": "stream",
     "text": [
      "36.14301553458228\n"
     ]
    }
   ],
   "source": [
    "#Affichage de la proportion d'alimentation animale\n",
    "proportion_animale = cereales_df['Aliments pour animaux'].sum() / cereales_df['Disponibilité intérieure'].sum()*100\n",
    "print(proportion_animale)"
   ]
  },
  {
   "cell_type": "markdown",
   "id": "a603be79",
   "metadata": {},
   "source": [
    "<div style=\"border: 1px solid RGB(0,150,250);\" >\n",
    "<h3 style=\"margin: auto; padding: 20px; color: RGB(0,150,250); \">3.6 - Pays avec la proportion de personnes sous-alimentée la plus forte en 2017</h3>\n",
    "</div>"
   ]
  },
  {
   "cell_type": "code",
   "execution_count": 50,
   "id": "1884c270",
   "metadata": {},
   "outputs": [],
   "source": [
    "# Trie du df data_2017 créé plus haut en fonction de la proportion de sous-nutrition (ordre décroissant)\n",
    "top_pays_sous_alimentation = data_2017.sort_values(by='Proportion_sous_nutrition', ascending=False)"
   ]
  },
  {
   "cell_type": "code",
   "execution_count": 51,
   "id": "84b0718d",
   "metadata": {},
   "outputs": [
    {
     "name": "stdout",
     "output_type": "stream",
     "text": [
      "                                           Zone  Proportion_sous_nutrition\n",
      "78                                        Haïti                  48.259182\n",
      "157  République populaire démocratique de Corée                  47.188685\n",
      "108                                  Madagascar                  41.062924\n",
      "103                                     Libéria                  38.279742\n",
      "100                                     Lesotho                  38.249438\n",
      "183                                       Tchad                  37.957606\n",
      "161                                      Rwanda                  35.055619\n",
      "121                                  Mozambique                  32.810898\n",
      "186                                 Timor-Leste                  32.173531\n",
      "0                                   Afghanistan                  28.928718\n"
     ]
    }
   ],
   "source": [
    "# Afficher les 10 pays avec la proportion de sous-nutrition la plus élevée en 2017\n",
    "top_10_pays_sous_alimentation = top_pays_sous_alimentation.head(10)\n",
    "print(top_10_pays_sous_alimentation[['Zone', 'Proportion_sous_nutrition']])"
   ]
  },
  {
   "cell_type": "markdown",
   "id": "4f610008",
   "metadata": {},
   "source": [
    "<div style=\"border: 1px solid RGB(0,150,250);\" >\n",
    "<h3 style=\"margin: auto; padding: 20px; color: RGB(0,150,250); \">3.7 - Pays qui ont le plus bénéficié d'aide alimentaire depuis 2013</h3>\n",
    "</div>"
   ]
  },
  {
   "cell_type": "code",
   "execution_count": 52,
   "id": "c959d4f4",
   "metadata": {},
   "outputs": [
    {
     "data": {
      "text/html": [
       "<div>\n",
       "<style scoped>\n",
       "    .dataframe tbody tr th:only-of-type {\n",
       "        vertical-align: middle;\n",
       "    }\n",
       "\n",
       "    .dataframe tbody tr th {\n",
       "        vertical-align: top;\n",
       "    }\n",
       "\n",
       "    .dataframe thead th {\n",
       "        text-align: right;\n",
       "    }\n",
       "</style>\n",
       "<table border=\"1\" class=\"dataframe\">\n",
       "  <thead>\n",
       "    <tr style=\"text-align: right;\">\n",
       "      <th></th>\n",
       "      <th>Zone</th>\n",
       "      <th>Année</th>\n",
       "      <th>Produit</th>\n",
       "      <th>Valeur</th>\n",
       "    </tr>\n",
       "  </thead>\n",
       "  <tbody>\n",
       "    <tr>\n",
       "      <th>0</th>\n",
       "      <td>Afghanistan</td>\n",
       "      <td>2013</td>\n",
       "      <td>Autres non-céréales</td>\n",
       "      <td>682000</td>\n",
       "    </tr>\n",
       "    <tr>\n",
       "      <th>1</th>\n",
       "      <td>Afghanistan</td>\n",
       "      <td>2014</td>\n",
       "      <td>Autres non-céréales</td>\n",
       "      <td>335000</td>\n",
       "    </tr>\n",
       "    <tr>\n",
       "      <th>2</th>\n",
       "      <td>Afghanistan</td>\n",
       "      <td>2013</td>\n",
       "      <td>Blé et Farin</td>\n",
       "      <td>39224000</td>\n",
       "    </tr>\n",
       "    <tr>\n",
       "      <th>3</th>\n",
       "      <td>Afghanistan</td>\n",
       "      <td>2014</td>\n",
       "      <td>Blé et Farin</td>\n",
       "      <td>15160000</td>\n",
       "    </tr>\n",
       "    <tr>\n",
       "      <th>4</th>\n",
       "      <td>Afghanistan</td>\n",
       "      <td>2013</td>\n",
       "      <td>Céréales</td>\n",
       "      <td>40504000</td>\n",
       "    </tr>\n",
       "  </tbody>\n",
       "</table>\n",
       "</div>"
      ],
      "text/plain": [
       "          Zone  Année              Produit    Valeur\n",
       "0  Afghanistan   2013  Autres non-céréales    682000\n",
       "1  Afghanistan   2014  Autres non-céréales    335000\n",
       "2  Afghanistan   2013         Blé et Farin  39224000\n",
       "3  Afghanistan   2014         Blé et Farin  15160000\n",
       "4  Afghanistan   2013             Céréales  40504000"
      ]
     },
     "execution_count": 52,
     "metadata": {},
     "output_type": "execute_result"
    }
   ],
   "source": [
    "aide_alimentaire.head()"
   ]
  },
  {
   "cell_type": "code",
   "execution_count": 53,
   "id": "ff1b24a3",
   "metadata": {},
   "outputs": [],
   "source": [
    "#calcul du total de l'aide alimentaire par pays\n",
    "total_aide_par_pays = aide_alimentaire[aide_alimentaire['Année'] >= 2013].groupby('Zone')['Valeur'].sum()"
   ]
  },
  {
   "cell_type": "code",
   "execution_count": 54,
   "id": "ee1ac6fb",
   "metadata": {
    "scrolled": true
   },
   "outputs": [
    {
     "name": "stdout",
     "output_type": "stream",
     "text": [
      "Zone\n",
      "République arabe syrienne           1858943000\n",
      "Éthiopie                            1381294000\n",
      "Yémen                               1206484000\n",
      "Soudan du Sud                        695248000\n",
      "Soudan                               669784000\n",
      "Kenya                                552836000\n",
      "Bangladesh                           348188000\n",
      "Somalie                              292678000\n",
      "République démocratique du Congo     288502000\n",
      "Niger                                276344000\n",
      "Name: Valeur, dtype: int64\n"
     ]
    }
   ],
   "source": [
    "#affichage après trie des 10 pays qui ont bénéficié le plus de l'aide alimentaire\n",
    "top_10_pays_aide_alimentaire = total_aide_par_pays.sort_values(ascending=False).head(10)\n",
    "print(top_10_pays_aide_alimentaire)"
   ]
  },
  {
   "cell_type": "markdown",
   "id": "a361ce61",
   "metadata": {},
   "source": [
    "<div style=\"border: 1px solid RGB(0,150,250);\" >\n",
    "<h3 style=\"margin: auto; padding: 20px; color: RGB(0,150,250); \">3.8 - Evolution des 5 pays qui ont le plus bénéficiés de l'aide alimentaire entre 2013 et 2016</h3>\n",
    "</div>"
   ]
  },
  {
   "cell_type": "code",
   "execution_count": 55,
   "id": "09d55114",
   "metadata": {},
   "outputs": [
    {
     "data": {
      "text/html": [
       "<div>\n",
       "<style scoped>\n",
       "    .dataframe tbody tr th:only-of-type {\n",
       "        vertical-align: middle;\n",
       "    }\n",
       "\n",
       "    .dataframe tbody tr th {\n",
       "        vertical-align: top;\n",
       "    }\n",
       "\n",
       "    .dataframe thead th {\n",
       "        text-align: right;\n",
       "    }\n",
       "</style>\n",
       "<table border=\"1\" class=\"dataframe\">\n",
       "  <thead>\n",
       "    <tr style=\"text-align: right;\">\n",
       "      <th></th>\n",
       "      <th>Zone</th>\n",
       "      <th>Année</th>\n",
       "      <th>Valeur</th>\n",
       "    </tr>\n",
       "  </thead>\n",
       "  <tbody>\n",
       "    <tr>\n",
       "      <th>0</th>\n",
       "      <td>Afghanistan</td>\n",
       "      <td>2013</td>\n",
       "      <td>682000</td>\n",
       "    </tr>\n",
       "    <tr>\n",
       "      <th>1</th>\n",
       "      <td>Afghanistan</td>\n",
       "      <td>2014</td>\n",
       "      <td>335000</td>\n",
       "    </tr>\n",
       "    <tr>\n",
       "      <th>2</th>\n",
       "      <td>Afghanistan</td>\n",
       "      <td>2013</td>\n",
       "      <td>39224000</td>\n",
       "    </tr>\n",
       "    <tr>\n",
       "      <th>3</th>\n",
       "      <td>Afghanistan</td>\n",
       "      <td>2014</td>\n",
       "      <td>15160000</td>\n",
       "    </tr>\n",
       "    <tr>\n",
       "      <th>4</th>\n",
       "      <td>Afghanistan</td>\n",
       "      <td>2013</td>\n",
       "      <td>40504000</td>\n",
       "    </tr>\n",
       "  </tbody>\n",
       "</table>\n",
       "</div>"
      ],
      "text/plain": [
       "          Zone  Année    Valeur\n",
       "0  Afghanistan   2013    682000\n",
       "1  Afghanistan   2014    335000\n",
       "2  Afghanistan   2013  39224000\n",
       "3  Afghanistan   2014  15160000\n",
       "4  Afghanistan   2013  40504000"
      ]
     },
     "execution_count": 55,
     "metadata": {},
     "output_type": "execute_result"
    }
   ],
   "source": [
    "#Création d'un dataframe avec la zone, l'année et l'aide alimentaire \n",
    "df_aide_alimentaire = aide_alimentaire[['Zone', 'Année', 'Valeur']]\n",
    "df_aide_alimentaire.head()"
   ]
  },
  {
   "cell_type": "code",
   "execution_count": 56,
   "id": "186eaa1b",
   "metadata": {},
   "outputs": [],
   "source": [
    "#puis groupby sur zone et année \n",
    "total_aide_par_pays_et_annee = df_aide_alimentaire.groupby(['Zone', 'Année']).sum()"
   ]
  },
  {
   "cell_type": "code",
   "execution_count": 57,
   "id": "6bd577b0",
   "metadata": {},
   "outputs": [],
   "source": [
    "#Création d'une liste contenant les 5 pays qui ont le plus bénéficiées de l'aide alimentaire\n",
    "top_5_pays = total_aide_par_pays_et_annee['Valeur'].groupby('Zone').sum().nlargest(5)"
   ]
  },
  {
   "cell_type": "code",
   "execution_count": 58,
   "id": "41612dbd",
   "metadata": {},
   "outputs": [],
   "source": [
    "#On filtre sur le dataframe total_aide_par_pays_et_annee avec la liste top_5_pays\n",
    "top_5_pays_aide_alimentaire = total_aide_par_pays_et_annee.loc[top_5_pays.index]"
   ]
  },
  {
   "cell_type": "code",
   "execution_count": 59,
   "id": "5680e72d",
   "metadata": {},
   "outputs": [
    {
     "data": {
      "text/html": [
       "<div>\n",
       "<style scoped>\n",
       "    .dataframe tbody tr th:only-of-type {\n",
       "        vertical-align: middle;\n",
       "    }\n",
       "\n",
       "    .dataframe tbody tr th {\n",
       "        vertical-align: top;\n",
       "    }\n",
       "\n",
       "    .dataframe thead th {\n",
       "        text-align: right;\n",
       "    }\n",
       "</style>\n",
       "<table border=\"1\" class=\"dataframe\">\n",
       "  <thead>\n",
       "    <tr style=\"text-align: right;\">\n",
       "      <th></th>\n",
       "      <th></th>\n",
       "      <th>Valeur</th>\n",
       "    </tr>\n",
       "    <tr>\n",
       "      <th>Zone</th>\n",
       "      <th>Année</th>\n",
       "      <th></th>\n",
       "    </tr>\n",
       "  </thead>\n",
       "  <tbody>\n",
       "    <tr>\n",
       "      <th rowspan=\"4\" valign=\"top\">République arabe syrienne</th>\n",
       "      <th>2013</th>\n",
       "      <td>563566000</td>\n",
       "    </tr>\n",
       "    <tr>\n",
       "      <th>2014</th>\n",
       "      <td>651870000</td>\n",
       "    </tr>\n",
       "    <tr>\n",
       "      <th>2015</th>\n",
       "      <td>524949000</td>\n",
       "    </tr>\n",
       "    <tr>\n",
       "      <th>2016</th>\n",
       "      <td>118558000</td>\n",
       "    </tr>\n",
       "    <tr>\n",
       "      <th rowspan=\"3\" valign=\"top\">Éthiopie</th>\n",
       "      <th>2013</th>\n",
       "      <td>591404000</td>\n",
       "    </tr>\n",
       "    <tr>\n",
       "      <th>2014</th>\n",
       "      <td>586624000</td>\n",
       "    </tr>\n",
       "    <tr>\n",
       "      <th>2015</th>\n",
       "      <td>203266000</td>\n",
       "    </tr>\n",
       "    <tr>\n",
       "      <th rowspan=\"4\" valign=\"top\">Yémen</th>\n",
       "      <th>2013</th>\n",
       "      <td>264764000</td>\n",
       "    </tr>\n",
       "    <tr>\n",
       "      <th>2014</th>\n",
       "      <td>103840000</td>\n",
       "    </tr>\n",
       "    <tr>\n",
       "      <th>2015</th>\n",
       "      <td>372306000</td>\n",
       "    </tr>\n",
       "    <tr>\n",
       "      <th>2016</th>\n",
       "      <td>465574000</td>\n",
       "    </tr>\n",
       "    <tr>\n",
       "      <th rowspan=\"3\" valign=\"top\">Soudan du Sud</th>\n",
       "      <th>2013</th>\n",
       "      <td>196330000</td>\n",
       "    </tr>\n",
       "    <tr>\n",
       "      <th>2014</th>\n",
       "      <td>450610000</td>\n",
       "    </tr>\n",
       "    <tr>\n",
       "      <th>2015</th>\n",
       "      <td>48308000</td>\n",
       "    </tr>\n",
       "    <tr>\n",
       "      <th rowspan=\"3\" valign=\"top\">Soudan</th>\n",
       "      <th>2013</th>\n",
       "      <td>330230000</td>\n",
       "    </tr>\n",
       "    <tr>\n",
       "      <th>2014</th>\n",
       "      <td>321904000</td>\n",
       "    </tr>\n",
       "    <tr>\n",
       "      <th>2015</th>\n",
       "      <td>17650000</td>\n",
       "    </tr>\n",
       "  </tbody>\n",
       "</table>\n",
       "</div>"
      ],
      "text/plain": [
       "                                    Valeur\n",
       "Zone                      Année           \n",
       "République arabe syrienne 2013   563566000\n",
       "                          2014   651870000\n",
       "                          2015   524949000\n",
       "                          2016   118558000\n",
       "Éthiopie                  2013   591404000\n",
       "                          2014   586624000\n",
       "                          2015   203266000\n",
       "Yémen                     2013   264764000\n",
       "                          2014   103840000\n",
       "                          2015   372306000\n",
       "                          2016   465574000\n",
       "Soudan du Sud             2013   196330000\n",
       "                          2014   450610000\n",
       "                          2015    48308000\n",
       "Soudan                    2013   330230000\n",
       "                          2014   321904000\n",
       "                          2015    17650000"
      ]
     },
     "execution_count": 59,
     "metadata": {},
     "output_type": "execute_result"
    }
   ],
   "source": [
    "# Affichage des pays avec l'aide alimentaire par année\n",
    "top_5_pays_aide_alimentaire.head(30)"
   ]
  },
  {
   "cell_type": "markdown",
   "id": "bd392dac",
   "metadata": {},
   "source": [
    "<div style=\"border: 1px solid RGB(0,150,250);\" >\n",
    "<h3 style=\"margin: auto; padding: 20px; color: RGB(0,150,250); \">3.9 - Pays avec le moins de disponibilité par habitant</h3>\n",
    "</div>"
   ]
  },
  {
   "cell_type": "code",
   "execution_count": 60,
   "id": "fb3a378b",
   "metadata": {},
   "outputs": [],
   "source": [
    "#Calcul de la disponibilité en kcal par personne par jour par pays\n",
    "dispo_pays_total = dispo_alimentaire[['Zone','Produit','Disponibilité alimentaire (Kcal/personne/jour)']].groupby('Zone').sum()"
   ]
  },
  {
   "cell_type": "code",
   "execution_count": 61,
   "id": "70c0f689",
   "metadata": {},
   "outputs": [
    {
     "data": {
      "text/html": [
       "<div>\n",
       "<style scoped>\n",
       "    .dataframe tbody tr th:only-of-type {\n",
       "        vertical-align: middle;\n",
       "    }\n",
       "\n",
       "    .dataframe tbody tr th {\n",
       "        vertical-align: top;\n",
       "    }\n",
       "\n",
       "    .dataframe thead th {\n",
       "        text-align: right;\n",
       "    }\n",
       "</style>\n",
       "<table border=\"1\" class=\"dataframe\">\n",
       "  <thead>\n",
       "    <tr style=\"text-align: right;\">\n",
       "      <th></th>\n",
       "      <th>Produit</th>\n",
       "      <th>Disponibilité alimentaire (Kcal/personne/jour)</th>\n",
       "    </tr>\n",
       "    <tr>\n",
       "      <th>Zone</th>\n",
       "      <th></th>\n",
       "      <th></th>\n",
       "    </tr>\n",
       "  </thead>\n",
       "  <tbody>\n",
       "    <tr>\n",
       "      <th>République centrafricaine</th>\n",
       "      <td>Abats ComestibleAlcool, non ComestibleAliments...</td>\n",
       "      <td>1879.0</td>\n",
       "    </tr>\n",
       "    <tr>\n",
       "      <th>Zambie</th>\n",
       "      <td>Abats ComestibleAgrumes, AutresAlcool, non Com...</td>\n",
       "      <td>1924.0</td>\n",
       "    </tr>\n",
       "    <tr>\n",
       "      <th>Madagascar</th>\n",
       "      <td>Abats ComestibleAgrumes, AutresAlcool, non Com...</td>\n",
       "      <td>2056.0</td>\n",
       "    </tr>\n",
       "    <tr>\n",
       "      <th>Afghanistan</th>\n",
       "      <td>Abats ComestibleAgrumes, AutresAliments pour e...</td>\n",
       "      <td>2087.0</td>\n",
       "    </tr>\n",
       "    <tr>\n",
       "      <th>Haïti</th>\n",
       "      <td>Abats ComestibleAgrumes, AutresAlcool, non Com...</td>\n",
       "      <td>2089.0</td>\n",
       "    </tr>\n",
       "    <tr>\n",
       "      <th>République populaire démocratique de Corée</th>\n",
       "      <td>Abats ComestibleAnimaux Aquatiques AutreAvoine...</td>\n",
       "      <td>2093.0</td>\n",
       "    </tr>\n",
       "    <tr>\n",
       "      <th>Tchad</th>\n",
       "      <td>Abats ComestibleAlcool, non ComestibleAliments...</td>\n",
       "      <td>2109.0</td>\n",
       "    </tr>\n",
       "    <tr>\n",
       "      <th>Zimbabwe</th>\n",
       "      <td>Abats ComestibleAgrumes, AutresAlcool, non Com...</td>\n",
       "      <td>2113.0</td>\n",
       "    </tr>\n",
       "    <tr>\n",
       "      <th>Ouganda</th>\n",
       "      <td>Abats ComestibleAgrumes, AutresAlcool, non Com...</td>\n",
       "      <td>2126.0</td>\n",
       "    </tr>\n",
       "    <tr>\n",
       "      <th>Timor-Leste</th>\n",
       "      <td>Abats ComestibleAliments pour enfantsAnanasAni...</td>\n",
       "      <td>2129.0</td>\n",
       "    </tr>\n",
       "  </tbody>\n",
       "</table>\n",
       "</div>"
      ],
      "text/plain": [
       "                                                                                      Produit  \\\n",
       "Zone                                                                                            \n",
       "République centrafricaine                   Abats ComestibleAlcool, non ComestibleAliments...   \n",
       "Zambie                                      Abats ComestibleAgrumes, AutresAlcool, non Com...   \n",
       "Madagascar                                  Abats ComestibleAgrumes, AutresAlcool, non Com...   \n",
       "Afghanistan                                 Abats ComestibleAgrumes, AutresAliments pour e...   \n",
       "Haïti                                       Abats ComestibleAgrumes, AutresAlcool, non Com...   \n",
       "République populaire démocratique de Corée  Abats ComestibleAnimaux Aquatiques AutreAvoine...   \n",
       "Tchad                                       Abats ComestibleAlcool, non ComestibleAliments...   \n",
       "Zimbabwe                                    Abats ComestibleAgrumes, AutresAlcool, non Com...   \n",
       "Ouganda                                     Abats ComestibleAgrumes, AutresAlcool, non Com...   \n",
       "Timor-Leste                                 Abats ComestibleAliments pour enfantsAnanasAni...   \n",
       "\n",
       "                                            Disponibilité alimentaire (Kcal/personne/jour)  \n",
       "Zone                                                                                        \n",
       "République centrafricaine                                                           1879.0  \n",
       "Zambie                                                                              1924.0  \n",
       "Madagascar                                                                          2056.0  \n",
       "Afghanistan                                                                         2087.0  \n",
       "Haïti                                                                               2089.0  \n",
       "République populaire démocratique de Corée                                          2093.0  \n",
       "Tchad                                                                               2109.0  \n",
       "Zimbabwe                                                                            2113.0  \n",
       "Ouganda                                                                             2126.0  \n",
       "Timor-Leste                                                                         2129.0  "
      ]
     },
     "execution_count": 61,
     "metadata": {},
     "output_type": "execute_result"
    }
   ],
   "source": [
    "#Affichage des 10 pays qui ont le moins de dispo alimentaire par personne \n",
    "dispo_pays_total.sort_values(by=\"Disponibilité alimentaire (Kcal/personne/jour)\", ascending=True).head(10)"
   ]
  },
  {
   "cell_type": "markdown",
   "id": "2553ed12",
   "metadata": {},
   "source": [
    "<div style=\"border: 1px solid RGB(0,150,250);\" >\n",
    "<h3 style=\"margin: auto; padding: 20px; color: RGB(0,150,250); \">3.10 - Pays avec le plus de disponibilité par habitant</h3>\n",
    "</div>"
   ]
  },
  {
   "cell_type": "code",
   "execution_count": 62,
   "id": "63e835c6",
   "metadata": {},
   "outputs": [
    {
     "data": {
      "text/html": [
       "<div>\n",
       "<style scoped>\n",
       "    .dataframe tbody tr th:only-of-type {\n",
       "        vertical-align: middle;\n",
       "    }\n",
       "\n",
       "    .dataframe tbody tr th {\n",
       "        vertical-align: top;\n",
       "    }\n",
       "\n",
       "    .dataframe thead th {\n",
       "        text-align: right;\n",
       "    }\n",
       "</style>\n",
       "<table border=\"1\" class=\"dataframe\">\n",
       "  <thead>\n",
       "    <tr style=\"text-align: right;\">\n",
       "      <th></th>\n",
       "      <th>Produit</th>\n",
       "      <th>Disponibilité alimentaire (Kcal/personne/jour)</th>\n",
       "    </tr>\n",
       "    <tr>\n",
       "      <th>Zone</th>\n",
       "      <th></th>\n",
       "      <th></th>\n",
       "    </tr>\n",
       "  </thead>\n",
       "  <tbody>\n",
       "    <tr>\n",
       "      <th>Autriche</th>\n",
       "      <td>Abats ComestibleAgrumes, AutresAlcool, non Com...</td>\n",
       "      <td>3770.0</td>\n",
       "    </tr>\n",
       "    <tr>\n",
       "      <th>Belgique</th>\n",
       "      <td>Abats ComestibleAgrumes, AutresAlcool, non Com...</td>\n",
       "      <td>3737.0</td>\n",
       "    </tr>\n",
       "    <tr>\n",
       "      <th>Turquie</th>\n",
       "      <td>Abats ComestibleAgrumes, AutresAlcool, non Com...</td>\n",
       "      <td>3708.0</td>\n",
       "    </tr>\n",
       "    <tr>\n",
       "      <th>États-Unis d'Amérique</th>\n",
       "      <td>Abats ComestibleAgrumes, AutresAlcool, non Com...</td>\n",
       "      <td>3682.0</td>\n",
       "    </tr>\n",
       "    <tr>\n",
       "      <th>Israël</th>\n",
       "      <td>Abats ComestibleAgrumes, AutresAlcool, non Com...</td>\n",
       "      <td>3610.0</td>\n",
       "    </tr>\n",
       "    <tr>\n",
       "      <th>Irlande</th>\n",
       "      <td>Abats ComestibleAgrumes, AutresAlcool, non Com...</td>\n",
       "      <td>3602.0</td>\n",
       "    </tr>\n",
       "    <tr>\n",
       "      <th>Italie</th>\n",
       "      <td>Abats ComestibleAgrumes, AutresAlcool, non Com...</td>\n",
       "      <td>3578.0</td>\n",
       "    </tr>\n",
       "    <tr>\n",
       "      <th>Luxembourg</th>\n",
       "      <td>Abats ComestibleAgrumes, AutresAlcool, non Com...</td>\n",
       "      <td>3540.0</td>\n",
       "    </tr>\n",
       "    <tr>\n",
       "      <th>Égypte</th>\n",
       "      <td>Abats ComestibleAgrumes, AutresAlcool, non Com...</td>\n",
       "      <td>3518.0</td>\n",
       "    </tr>\n",
       "    <tr>\n",
       "      <th>Allemagne</th>\n",
       "      <td>Abats ComestibleAgrumes, AutresAlcool, non Com...</td>\n",
       "      <td>3503.0</td>\n",
       "    </tr>\n",
       "  </tbody>\n",
       "</table>\n",
       "</div>"
      ],
      "text/plain": [
       "                                                                 Produit  \\\n",
       "Zone                                                                       \n",
       "Autriche               Abats ComestibleAgrumes, AutresAlcool, non Com...   \n",
       "Belgique               Abats ComestibleAgrumes, AutresAlcool, non Com...   \n",
       "Turquie                Abats ComestibleAgrumes, AutresAlcool, non Com...   \n",
       "États-Unis d'Amérique  Abats ComestibleAgrumes, AutresAlcool, non Com...   \n",
       "Israël                 Abats ComestibleAgrumes, AutresAlcool, non Com...   \n",
       "Irlande                Abats ComestibleAgrumes, AutresAlcool, non Com...   \n",
       "Italie                 Abats ComestibleAgrumes, AutresAlcool, non Com...   \n",
       "Luxembourg             Abats ComestibleAgrumes, AutresAlcool, non Com...   \n",
       "Égypte                 Abats ComestibleAgrumes, AutresAlcool, non Com...   \n",
       "Allemagne              Abats ComestibleAgrumes, AutresAlcool, non Com...   \n",
       "\n",
       "                       Disponibilité alimentaire (Kcal/personne/jour)  \n",
       "Zone                                                                   \n",
       "Autriche                                                       3770.0  \n",
       "Belgique                                                       3737.0  \n",
       "Turquie                                                        3708.0  \n",
       "États-Unis d'Amérique                                          3682.0  \n",
       "Israël                                                         3610.0  \n",
       "Irlande                                                        3602.0  \n",
       "Italie                                                         3578.0  \n",
       "Luxembourg                                                     3540.0  \n",
       "Égypte                                                         3518.0  \n",
       "Allemagne                                                      3503.0  "
      ]
     },
     "execution_count": 62,
     "metadata": {},
     "output_type": "execute_result"
    }
   ],
   "source": [
    "#Affichage des 10 pays qui ont le plus de dispo alimentaire par personne \n",
    "dispo_pays_total.sort_values(by=\"Disponibilité alimentaire (Kcal/personne/jour)\", ascending=False).head(10)"
   ]
  },
  {
   "cell_type": "markdown",
   "id": "58d7248b",
   "metadata": {},
   "source": [
    "<div style=\"border: 1px solid RGB(0,150,250);\" >\n",
    "<h3 style=\"margin: auto; padding: 20px; color: RGB(0,150,250); \">3.11 - Exemple de la Thaïlande pour le Manioc</h3>\n",
    "</div>"
   ]
  },
  {
   "cell_type": "code",
   "execution_count": 63,
   "id": "ec9ca912",
   "metadata": {},
   "outputs": [],
   "source": [
    "#Création d'un dataframe avec uniquement la Thaïlande \n",
    "thailande_manioque = sous_nutrition[sous_nutrition['Zone'] == 'Thaïlande']"
   ]
  },
  {
   "cell_type": "code",
   "execution_count": 64,
   "id": "85693912",
   "metadata": {},
   "outputs": [],
   "source": [
    "#Calcul de la sous nutrition en thailande\n",
    "sous_nutrition_thailande = data_2017[(data_2017['Zone'] == 'Thaïlande')]"
   ]
  },
  {
   "cell_type": "code",
   "execution_count": 65,
   "id": "8018fa6e",
   "metadata": {},
   "outputs": [
    {
     "name": "stdout",
     "output_type": "stream",
     "text": [
      "8.958267621309753\n"
     ]
    }
   ],
   "source": [
    "# Afficher la proportion de sous-nutrition en Thaïlande\n",
    "proportion_sous_nutrition_thailande = sous_nutrition_thailande['Proportion_sous_nutrition'].values[0]\n",
    "print(proportion_sous_nutrition_thailande)"
   ]
  },
  {
   "cell_type": "code",
   "execution_count": 66,
   "id": "f19cd96e",
   "metadata": {},
   "outputs": [
    {
     "name": "stdout",
     "output_type": "stream",
     "text": [
      "83.41272991928014\n"
     ]
    }
   ],
   "source": [
    "# On calcule la proportion exportée en fonction de la proportion\n",
    "proportion_exportation_manioc = (dispo_alimentaire.loc[(dispo_alimentaire['Produit'] == \"Manioc\") & (dispo_alimentaire['Zone'] == \"Thaïlande\")]\n",
    "                                ['Exportations - Quantité'].iloc[0] * 100 /\n",
    "                                dispo_alimentaire.loc[(dispo_alimentaire['Produit'] == \"Manioc\") & (dispo_alimentaire['Zone'] == \"Thaïlande\")]\n",
    "                                ['Production'].iloc[0])\n",
    "\n",
    "\n",
    "print(proportion_exportation_manioc)"
   ]
  },
  {
   "cell_type": "markdown",
   "id": "7de4e914",
   "metadata": {},
   "source": [
    "<div style=\"background-color: RGB(0,150,250);\" >\n",
    "<h2 style=\"margin: auto; padding: 20px; color:#fff; \">Etape 6 - Analyse complémentaires</h2>\n",
    "</div>"
   ]
  },
  {
   "cell_type": "markdown",
   "id": "662859d5",
   "metadata": {},
   "source": [
    "# Analyse de la consommation alimentaire par produit "
   ]
  },
  {
   "cell_type": "code",
   "execution_count": 70,
   "id": "835e9982",
   "metadata": {},
   "outputs": [],
   "source": [
    "# Groupement des données par produit et calcule de la somme de la disponibilité alimentaire\n",
    "produit_consommation = dispo_alimentaire.groupby('Produit')['Disponibilité alimentaire en quantité (kg/personne/an)'].sum()"
   ]
  },
  {
   "cell_type": "code",
   "execution_count": 71,
   "id": "9da323bb",
   "metadata": {},
   "outputs": [],
   "source": [
    "#tri du résultat\n",
    "top_produits_consommes = produit_consommation.sort_values(ascending=False).head(10)"
   ]
  },
  {
   "cell_type": "code",
   "execution_count": 73,
   "id": "f59aedf1",
   "metadata": {},
   "outputs": [
    {
     "name": "stdout",
     "output_type": "stream",
     "text": [
      "Produit\n",
      "Lait - Excl Beurre     19288.17\n",
      "Blé                    12148.21\n",
      "Légumes, Autres        10948.03\n",
      "Pommes de Terre         5891.89\n",
      "Riz (Eq Blanchi)        5373.28\n",
      "Bière                   5161.37\n",
      "Fruits, Autres          4585.23\n",
      "Sucre Eq Brut           4482.47\n",
      "Maïs                    3687.47\n",
      "Viande de Volailles     3527.03\n",
      "Name: Disponibilité alimentaire en quantité (kg/personne/an), dtype: float64\n"
     ]
    }
   ],
   "source": [
    "# Affichage du résultat\n",
    "print(top_produits_consommes)"
   ]
  },
  {
   "cell_type": "markdown",
   "id": "3a5c2fd4",
   "metadata": {},
   "source": [
    "# 10 plus grands producteurs de maïs dans le monde"
   ]
  },
  {
   "cell_type": "code",
   "execution_count": 75,
   "id": "c50ccf59",
   "metadata": {},
   "outputs": [],
   "source": [
    "# Filtre sur les données pour le produit \"Maïs\"\n",
    "mais_producteurs = dispo_alimentaire[dispo_alimentaire['Produit'] == 'Maïs']"
   ]
  },
  {
   "cell_type": "code",
   "execution_count": 76,
   "id": "283f1d75",
   "metadata": {},
   "outputs": [],
   "source": [
    "# Groupement des données par pays et calcule de la somme de la production de maïs\n",
    "top_producteurs_mais = mais_producteurs.groupby('Zone')['Production'].sum()"
   ]
  },
  {
   "cell_type": "code",
   "execution_count": 77,
   "id": "4d7d5165",
   "metadata": {},
   "outputs": [],
   "source": [
    "# Trier les pays par ordre décroissant de production de maïs\n",
    "top_producteurs_mais = top_producteurs_mais.sort_values(ascending=False)"
   ]
  },
  {
   "cell_type": "code",
   "execution_count": 78,
   "id": "b30e9c06",
   "metadata": {},
   "outputs": [
    {
     "name": "stdout",
     "output_type": "stream",
     "text": [
      "Zone\n",
      "États-Unis d'Amérique    353699000.0\n",
      "Chine, continentale      218489000.0\n",
      "Brésil                    80538000.0\n",
      "Argentine                 32119000.0\n",
      "Ukraine                   30950000.0\n",
      "Inde                      23290000.0\n",
      "Mexique                   22664000.0\n",
      "Indonésie                 18512000.0\n",
      "France                    15031000.0\n",
      "Canada                    14194000.0\n",
      "Name: Production, dtype: float64\n"
     ]
    }
   ],
   "source": [
    "# Afficher les 10 plus grands producteurs de maïs dans le monde\n",
    "print(top_producteurs_mais.head(10))"
   ]
  }
 ],
 "metadata": {
  "kernelspec": {
   "display_name": "Python 3 (ipykernel)",
   "language": "python",
   "name": "python3"
  },
  "language_info": {
   "codemirror_mode": {
    "name": "ipython",
    "version": 3
   },
   "file_extension": ".py",
   "mimetype": "text/x-python",
   "name": "python",
   "nbconvert_exporter": "python",
   "pygments_lexer": "ipython3",
   "version": "3.11.5"
  }
 },
 "nbformat": 4,
 "nbformat_minor": 5
}
